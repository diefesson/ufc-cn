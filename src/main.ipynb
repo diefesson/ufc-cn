{
 "cells": [
  {
   "cell_type": "code",
   "execution_count": null,
   "metadata": {},
   "outputs": [],
   "source": [
    "from math import sqrt"
   ]
  },
  {
   "cell_type": "markdown",
   "metadata": {},
   "source": [
    "# Calculo do erro"
   ]
  },
  {
   "cell_type": "code",
   "execution_count": null,
   "metadata": {},
   "outputs": [],
   "source": [
    "def erro_absoluto(referencia, estimativa):\n",
    "    return abs(referencia - estimativa)\n",
    "\n",
    "\n",
    "def erro_relativo(referencia, estimativa):\n",
    "    return abs((referencia, estimativa) / estimativa)\n"
   ]
  },
  {
   "cell_type": "markdown",
   "metadata": {},
   "source": [
    "# Derivação numerica"
   ]
  },
  {
   "cell_type": "code",
   "execution_count": null,
   "metadata": {},
   "outputs": [],
   "source": [
    "DELTA_DERIVACAO_PADRAO = 10**-4\n",
    "\n",
    "\n",
    "def derivada_direita(f, delta=DELTA_DERIVACAO_PADRAO):\n",
    "    return lambda x: (f(x + delta) - f(x)) / delta\n",
    "\n",
    "\n",
    "def derivada_esquerda(f, delta=DELTA_DERIVACAO_PADRAO):\n",
    "    return lambda x: (f(x - delta) - f(x)) / delta\n",
    "\n",
    "\n",
    "def derivada_central(f, delta=DELTA_DERIVACAO_PADRAO):\n",
    "    return lambda x: (f(x + delta) - f(x - delta)) / (2 * delta)\n"
   ]
  },
  {
   "cell_type": "markdown",
   "metadata": {},
   "source": [
    "# Funções de parada"
   ]
  },
  {
   "cell_type": "code",
   "execution_count": null,
   "metadata": {},
   "outputs": [],
   "source": [
    "def limite_iteracao(i):\n",
    "    return lambda est: est.i >= i\n",
    "\n",
    "\n",
    "def parada_erro_absoluto(referencia, e):\n",
    "    return lambda est: erro_absoluto(referencia, est.x) < e\n",
    "\n",
    "\n",
    "def parada_erro_relativo(referencia, e):\n",
    "    return lambda est: erro_relativo(referencia, est.x) < e\n",
    "\n",
    "\n",
    "def parada_da_bissecao(e):\n",
    "    return lambda est: est.b - est.a < 2 * e\n",
    "\n",
    "\n",
    "def parada_da_falsa_posicao(e):\n",
    "    return lambda est: est.f(est.x - e) * est.f(est.x + e) < 0\n"
   ]
  },
  {
   "cell_type": "markdown",
   "metadata": {},
   "source": [
    "# Método da bisseçao"
   ]
  },
  {
   "cell_type": "code",
   "execution_count": null,
   "metadata": {},
   "outputs": [],
   "source": [
    "class EstatisticaAB:\n",
    "    def __init__(self, i, f, a, b, x, y) -> None:\n",
    "        self.i = i\n",
    "        self.f = f\n",
    "        self.a = a\n",
    "        self.b = b\n",
    "        self.x = x\n",
    "        self.y = y\n",
    "\n",
    "    def __str__(self) -> str:\n",
    "        return f\"iteracao: {self.i}, a: {self.a}, b: {self.b}, x: {self.x}, y: {self.y}\"\n"
   ]
  },
  {
   "cell_type": "code",
   "execution_count": null,
   "metadata": {},
   "outputs": [],
   "source": [
    "def bissecao(a, b, f, condicao_parada, observador=lambda _: None):\n",
    "    if a > b:\n",
    "        a, b = b, a\n",
    "    i = 1\n",
    "    x = (a + b) / 2\n",
    "    y = f(x)\n",
    "    est = EstatisticaAB(i, f, a, b, x, y)\n",
    "    observador(est)\n",
    "    while not condicao_parada(est):\n",
    "        i += 1\n",
    "        if f(a) * y < 0:\n",
    "            b = x\n",
    "        else:\n",
    "            a = x\n",
    "        x = (a + b) / 2\n",
    "        y = f(x)\n",
    "        est_erro = (b - a) / 2\n",
    "        est = EstatisticaAB(i, f, a, b, x, y)\n",
    "        observador(est)\n",
    "    return est\n"
   ]
  },
  {
   "cell_type": "markdown",
   "metadata": {},
   "source": [
    "# Método da falsa posição"
   ]
  },
  {
   "cell_type": "code",
   "execution_count": null,
   "metadata": {},
   "outputs": [],
   "source": [
    "def falsa_posicao(a, b, f, condicao_parada, observador=lambda _: None):\n",
    "    if a > b:\n",
    "        a, b = b, a\n",
    "    i = 1\n",
    "    x = (a * f(b) - b * f(a)) / (f(b) - f(a))\n",
    "    y = f(x)\n",
    "    est = EstatisticaAB(i, f, a, b, x, y)\n",
    "    observador(est)\n",
    "    while not condicao_parada(est):\n",
    "        i += 1\n",
    "        if f(a) * y < 0:\n",
    "            b = x\n",
    "        else:\n",
    "            a = x\n",
    "        x = (a * f(b) - b * f(a)) / (f(b) - f(a))\n",
    "        y = f(x)\n",
    "        est_erro = (b - a) / 2\n",
    "        est = EstatisticaAB(i, f, a, b, x, y)\n",
    "        print(est)\n",
    "    return est\n"
   ]
  },
  {
   "cell_type": "markdown",
   "metadata": {},
   "source": [
    "# Método do ponto fixo"
   ]
  },
  {
   "cell_type": "code",
   "execution_count": null,
   "metadata": {},
   "outputs": [],
   "source": [
    "class EstatisticaX:\n",
    "    def __init__(self, i, f, fi, x, y) -> None:\n",
    "        self.i = i\n",
    "        self.f = f\n",
    "        self.fi = fi\n",
    "        self.x = x\n",
    "        self.y = y\n",
    "\n",
    "    def __str__(self) -> str:\n",
    "        return f\"iteracao: {self.i}, x: {self.x}, y:{self.y}\"\n"
   ]
  },
  {
   "cell_type": "code",
   "execution_count": null,
   "metadata": {},
   "outputs": [],
   "source": [
    "def ponto_fixo(x, f, fi, condicao_parada, observador=lambda _: None):\n",
    "    i = 1\n",
    "    y = f(x)\n",
    "    est = EstatisticaX(i, f, fi, x, y)\n",
    "    observador(est)\n",
    "    while not condicao_parada(est):\n",
    "        i += 1\n",
    "        x = fi(x)\n",
    "        y = f(x)\n",
    "        est = EstatisticaX(i, f, fi, x, y)\n",
    "        observador(est)\n",
    "    return est\n"
   ]
  },
  {
   "cell_type": "markdown",
   "metadata": {},
   "source": [
    "# Método de Newtown-Raphson"
   ]
  },
  {
   "cell_type": "code",
   "execution_count": null,
   "metadata": {},
   "outputs": [],
   "source": [
    "def newton_raphson(x, f, condicao_parada, observador=lambda x: None):\n",
    "    d = derivada_central(f)\n",
    "    fi = lambda x: x - f(x) / d(x)\n",
    "    return  ponto_fixo(x, f, fi, condicao_parada, observador)"
   ]
  },
  {
   "cell_type": "markdown",
   "metadata": {},
   "source": [
    "# Amostras"
   ]
  },
  {
   "cell_type": "code",
   "execution_count": null,
   "metadata": {},
   "outputs": [],
   "source": [
    "def amostra_linear(x):\n",
    "    return 5 * x + 2\n",
    "\n",
    "def amostra_poli(x):\n",
    "    return x ** 2 + x - 6\n",
    "\n",
    "def amostra_poli_iter(x):\n",
    "    return sqrt(6 - x) \n"
   ]
  },
  {
   "cell_type": "markdown",
   "metadata": {},
   "source": [
    "# Playground "
   ]
  },
  {
   "cell_type": "code",
   "execution_count": null,
   "metadata": {},
   "outputs": [],
   "source": [
    "resultado = newton_raphson(1.5, amostra_poli, limite_iteracao(10), print)\n",
    "print(resultado)\n"
   ]
  }
 ],
 "metadata": {
  "kernelspec": {
   "display_name": "Python 3.10.6 ('venv': venv)",
   "language": "python",
   "name": "python3"
  },
  "language_info": {
   "codemirror_mode": {
    "name": "ipython",
    "version": 3
   },
   "file_extension": ".py",
   "mimetype": "text/x-python",
   "name": "python",
   "nbconvert_exporter": "python",
   "pygments_lexer": "ipython3",
   "version": "3.10.6"
  },
  "orig_nbformat": 4,
  "vscode": {
   "interpreter": {
    "hash": "6c59314b1a04a8e423bb438665592d3397925ef63c72d8c0a9af84e1df1e8d47"
   }
  }
 },
 "nbformat": 4,
 "nbformat_minor": 2
}
