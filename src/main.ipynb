{
 "cells": [
  {
   "cell_type": "code",
   "execution_count": null,
   "metadata": {},
   "outputs": [],
   "source": [
    "from copy import deepcopy\n",
    "from dataclasses import dataclass\n",
    "from enum import Enum\n",
    "from math import inf, sqrt, e, factorial, lcm\n",
    "from typing import Any, Callable, List, Optional, Tuple\n",
    "from fractions import Fraction\n",
    "\n",
    "import matplotlib.pyplot as plot\n",
    "import numpy as np\n",
    "from IPython.display import Latex, display_latex\n"
   ]
  },
  {
   "cell_type": "markdown",
   "metadata": {},
   "source": [
    "# Constantes"
   ]
  },
  {
   "cell_type": "code",
   "execution_count": null,
   "metadata": {},
   "outputs": [],
   "source": [
    "MAX_ITER_PADRAO = 100\n",
    "DELTA_DERIVACAO_PADRAO = 10**-4\n",
    "DERIVADA_SPLINE_PADRAO = 0\n",
    "GRAU_SPLINE_PADRAO = 2\n",
    "INDICE_SPLINE_PADRAO = 0\n",
    "FORMATO_PADRAO = \".8g\"\n"
   ]
  },
  {
   "cell_type": "markdown",
   "metadata": {},
   "source": [
    "# Básico\n"
   ]
  },
  {
   "cell_type": "code",
   "execution_count": null,
   "metadata": {},
   "outputs": [],
   "source": [
    "def polinomio(coefs: List[float]) -> Callable[[float], float]:\n",
    "    coefs = deepcopy(coefs)\n",
    "    return lambda x: sum(coefs[i] * x**i for i in range(len(coefs)))\n",
    "\n",
    "\n",
    "def lerp(a: float, b: float, x: float) -> float:\n",
    "    return a * (1 - x) + b * x\n",
    "\n",
    "\n",
    "def amostras(\n",
    "    f: Callable[[float], float],\n",
    "    a: float,\n",
    "    b: float,\n",
    "    n: int = 50,\n",
    ") -> Tuple[List[float], List[float]]:\n",
    "    assert n >= 2, \"mínimo de dois pontos de amostragem\"\n",
    "    xs = [lerp(a, b, i / (n - 1)) for i in range(n)]\n",
    "    ys = [f(x) for x in xs]\n",
    "    return xs, ys\n",
    "\n",
    "\n",
    "def numeradores_denominador_comum(valores: List[float]) -> Tuple[List[float], float]:\n",
    "    ns, ds = [], []\n",
    "    for v in valores:\n",
    "        f = Fraction(v).limit_denominator()\n",
    "        ns.append(f.numerator)\n",
    "        ds.append(f.denominator)\n",
    "    denominador = lcm(*ds)\n",
    "    ns = [round(n * (denominador / d), ndigits=0) for n, d in zip(ns, ds)]\n",
    "    return ns, denominador\n"
   ]
  },
  {
   "cell_type": "markdown",
   "metadata": {},
   "source": [
    "# Métodos iterativos"
   ]
  },
  {
   "cell_type": "markdown",
   "metadata": {},
   "source": [
    "## Calculo do erro"
   ]
  },
  {
   "cell_type": "code",
   "execution_count": null,
   "metadata": {},
   "outputs": [],
   "source": [
    "def erro_absoluto(referencia: float, estimativa: float) -> float:\n",
    "    return abs(referencia - estimativa)\n",
    "\n",
    "\n",
    "def erro_relativo(referencia: float, estimativa: float) -> float:\n",
    "    return abs((referencia - estimativa) / estimativa)\n"
   ]
  },
  {
   "cell_type": "markdown",
   "metadata": {},
   "source": [
    "## Classes de estado"
   ]
  },
  {
   "cell_type": "code",
   "execution_count": null,
   "metadata": {},
   "outputs": [],
   "source": [
    "@dataclass\n",
    "class EstadoAB:\n",
    "\n",
    "    f: Callable[[float], float]\n",
    "    i: int\n",
    "    a: float\n",
    "    b: float\n",
    "    x_ant: Optional[float]\n",
    "    x: float\n",
    "    y: float\n",
    "\n",
    "    def __init__(\n",
    "        self, f: Callable[[float], float], a: float, b: float, x: float, y: float\n",
    "    ) -> None:\n",
    "        self.f = f\n",
    "        self.i: int = 1\n",
    "        self.a = a\n",
    "        self.b = b\n",
    "        self.x_ant = None\n",
    "        self.x = x\n",
    "        self.y = y\n",
    "\n",
    "    def __str__(self) -> str:\n",
    "        return f\"iteracao: {self.i}, a: {self.a}, b: {self.b}, x: {self.x}, y: {self.y}\"\n"
   ]
  },
  {
   "cell_type": "code",
   "execution_count": null,
   "metadata": {},
   "outputs": [],
   "source": [
    "@dataclass\n",
    "class EstadoX:\n",
    "\n",
    "    f: Callable[[float], float]\n",
    "    fi: Callable[[float], float]\n",
    "    i: int\n",
    "    x_ant: Optional[float]\n",
    "    x: float\n",
    "    y: float\n",
    "\n",
    "    def __init__(\n",
    "        self,\n",
    "        f: Callable[[float], float],\n",
    "        fi: Callable[[float], float],\n",
    "        x: float,\n",
    "        y: float,\n",
    "    ) -> None:\n",
    "        self.f = f\n",
    "        self.fi = fi\n",
    "        self.i: int = 1\n",
    "        self.x_ant = None\n",
    "        self.x = x\n",
    "        self.y = y\n",
    "\n",
    "    def __str__(self) -> str:\n",
    "        return f\"iteracao: {self.i}, x: {self.x}, y:{self.y}\"\n"
   ]
  },
  {
   "cell_type": "markdown",
   "metadata": {},
   "source": [
    "## Método da bisseção"
   ]
  },
  {
   "cell_type": "code",
   "execution_count": null,
   "metadata": {},
   "outputs": [],
   "source": [
    "def bissecao(\n",
    "    f: Callable[[float], float],\n",
    "    a: float,\n",
    "    b: float,\n",
    "    criterios: list[Callable[[EstadoAB], bool]],\n",
    "    observador: Callable[[EstadoAB], None] = lambda _: None,\n",
    "    max_iter=MAX_ITER_PADRAO,\n",
    "):\n",
    "    a, b = sorted([a, b])\n",
    "    x = (a + b) / 2\n",
    "    est = EstadoAB(f, a, b, x, f(x))\n",
    "    observador(est)\n",
    "    while not all(map(lambda c: c(est), criterios)) and est.i < max_iter:\n",
    "        est.i += 1\n",
    "        if f(est.a) * est.y < 0:\n",
    "            est.b = est.x\n",
    "        else:\n",
    "            est.a = est.x\n",
    "        est.x_ant = est.x\n",
    "        est.x = (est.a + est.b) / 2\n",
    "        est.y = f(est.x)\n",
    "        observador(est)\n",
    "    return est\n"
   ]
  },
  {
   "cell_type": "markdown",
   "metadata": {},
   "source": [
    "## Método da falsa posição"
   ]
  },
  {
   "cell_type": "code",
   "execution_count": null,
   "metadata": {},
   "outputs": [],
   "source": [
    "def falsa_posicao(\n",
    "    f: Callable[[float], float],\n",
    "    a: float,\n",
    "    b: float,\n",
    "    criterios: list[Callable[[EstadoAB], bool]],\n",
    "    observador: Callable[[EstadoAB], None] = lambda _: None,\n",
    "    max_iter=MAX_ITER_PADRAO,\n",
    "):\n",
    "    a, b = sorted([a, b])\n",
    "    x = (a * f(b) - b * f(a)) / (f(b) - f(a))\n",
    "    est = EstadoAB(f, a, b, x, f(x))\n",
    "    observador(est)\n",
    "    while not all(map(lambda c: c(est), criterios)) and est.i < max_iter:\n",
    "        est.i += 1\n",
    "        if f(est.a) * est.y < 0:\n",
    "            est.b = est.x\n",
    "        else:\n",
    "            est.a = est.x\n",
    "        est.x_ant = est.x\n",
    "        est.x = (est.a * f(est.b) - est.b * f(est.a)) / (f(est.b) - f(est.a))\n",
    "        est.y = f(est.x)\n",
    "        observador(est)\n",
    "    return est\n"
   ]
  },
  {
   "cell_type": "markdown",
   "metadata": {},
   "source": [
    "## Método do ponto fixo"
   ]
  },
  {
   "cell_type": "code",
   "execution_count": null,
   "metadata": {},
   "outputs": [],
   "source": [
    "def ponto_fixo(\n",
    "    f: Callable[[float], float],\n",
    "    fi: Callable[[float], float],\n",
    "    x: float,\n",
    "    criterios: list[Callable[[EstadoX], bool]],\n",
    "    observador: Callable[[EstadoX], None] = lambda _: None,\n",
    "    max_iter=MAX_ITER_PADRAO,\n",
    "):\n",
    "    est = EstadoX(f, fi, x, f(x))\n",
    "    observador(est)\n",
    "    while not all(map(lambda c: c(est), criterios)) and est.i < max_iter:\n",
    "        est.i += 1\n",
    "        est.x_ant = est.x\n",
    "        est.x = fi(est.x)\n",
    "        est.y = f(est.x)\n",
    "        observador(est)\n",
    "    return est\n"
   ]
  },
  {
   "cell_type": "markdown",
   "metadata": {},
   "source": [
    "## Método de Newton-Raphson"
   ]
  },
  {
   "cell_type": "code",
   "execution_count": null,
   "metadata": {},
   "outputs": [],
   "source": [
    "def newton_raphson(\n",
    "    f: Callable[[float], float],\n",
    "    d: Callable[[float], float],\n",
    "    x: float,\n",
    "    criterios: List[Callable[[EstadoX], bool]],\n",
    "    observador: Callable[[EstadoX], None] = lambda x: None,\n",
    "    max_iter=MAX_ITER_PADRAO,\n",
    "):\n",
    "    fi = lambda x: x - f(x) / d(x)\n",
    "    return ponto_fixo(f, fi, x, criterios, observador, max_iter)\n"
   ]
  },
  {
   "cell_type": "markdown",
   "metadata": {},
   "source": [
    "# Sistemas lineares"
   ]
  },
  {
   "cell_type": "markdown",
   "metadata": {},
   "source": [
    "## Pivotamento"
   ]
  },
  {
   "cell_type": "code",
   "execution_count": null,
   "metadata": {},
   "outputs": [],
   "source": [
    "def _busca_pivo(linha: int, coluna: int, b: List[List[float]]):\n",
    "    maior = -inf\n",
    "    posicao = -1\n",
    "    for l in range(linha, len(b)):\n",
    "        valor = abs(b[l][coluna])\n",
    "        if valor > maior:\n",
    "            maior = valor\n",
    "            posicao = l\n",
    "    return posicao\n",
    "\n",
    "\n",
    "def _pivotar_em(\n",
    "    linha: int,\n",
    "    coluna: int,\n",
    "    b: List[List[float]],\n",
    "    y: Optional[List[float]] = None,\n",
    ") -> bool:\n",
    "    linha_pivo = _busca_pivo(linha, coluna, b)\n",
    "    if linha_pivo != -1:\n",
    "        b[linha], b[linha_pivo] = b[linha_pivo], b[linha]\n",
    "        if y is not None:\n",
    "            y[linha], y[linha_pivo] = y[linha_pivo], y[linha]\n",
    "        return True\n",
    "    else:\n",
    "        return False\n",
    "\n",
    "\n",
    "def pivotar(b: List[List[float]], y: Optional[List[float]] = None):\n",
    "    b = deepcopy(b)\n",
    "    y = deepcopy(y)\n",
    "    l, c = 0, 0\n",
    "    m, n = len(b), len(b[0])\n",
    "    while l < m and c < n:\n",
    "        if _pivotar_em(l, c, b, y):\n",
    "            l += 1\n",
    "        c += 1\n",
    "    return b, y\n"
   ]
  },
  {
   "cell_type": "markdown",
   "metadata": {},
   "source": [
    "## Método de Gauss"
   ]
  },
  {
   "cell_type": "code",
   "execution_count": null,
   "metadata": {},
   "outputs": [],
   "source": [
    "def _multiplicar_somar(\n",
    "    fator: float,\n",
    "    ori: int,\n",
    "    dest: int,\n",
    "    b: List[List[float]],\n",
    "    y: Optional[List[float]] = None,\n",
    "):\n",
    "    colunas = len(b[0])\n",
    "    for c in range(colunas):\n",
    "        b[dest][c] += fator * b[ori][c]\n",
    "    if y is not None:\n",
    "        y[dest] += fator * y[ori]\n",
    "    pass\n",
    "\n",
    "\n",
    "def _elimininacao_gauss(\n",
    "    linha: int,\n",
    "    coluna: int,\n",
    "    b: List[List[float]],\n",
    "    y: Optional[List[float]] = None,\n",
    "):\n",
    "    for l in range(linha + 1, len(b)):\n",
    "        fator = b[l][coluna] / b[linha][coluna]\n",
    "        _multiplicar_somar(-fator, linha, l, b, y)\n",
    "\n",
    "\n",
    "def gauss(\n",
    "    b: List[List[float]],\n",
    "    y: Optional[List[float]] = None,\n",
    ") -> Tuple[List[List[float]], Optional[List[float]]]:\n",
    "    b, y = deepcopy(b), deepcopy(y)\n",
    "    l, c = 0, 0\n",
    "    m, n = len(b), len(b[0])\n",
    "    while l < m and c < n:\n",
    "        if _pivotar_em(l, c, b, y):\n",
    "            _elimininacao_gauss(l, c, b, y)\n",
    "            l += 1\n",
    "        c += 1\n",
    "    return b, y\n"
   ]
  },
  {
   "cell_type": "markdown",
   "metadata": {},
   "source": [
    "## Tipo Solução"
   ]
  },
  {
   "cell_type": "code",
   "execution_count": null,
   "metadata": {},
   "outputs": [],
   "source": [
    "class TipoSolucao(Enum):\n",
    "    NENHUMA = 0\n",
    "    UNICA = 1\n",
    "    MULTIPLAS = 2\n",
    "\n",
    "\n",
    "def tipo_solucao(b, y) -> TipoSolucao:\n",
    "    for i in range(len(b)):\n",
    "        if b[i][i] == 0.0:\n",
    "            if y[i] == 0.0:\n",
    "                return TipoSolucao.MULTIPLAS\n",
    "            else:\n",
    "                return TipoSolucao.NENHUMA\n",
    "    return TipoSolucao.UNICA\n"
   ]
  },
  {
   "cell_type": "markdown",
   "metadata": {},
   "source": [
    "## Substituição Retroativa"
   ]
  },
  {
   "cell_type": "code",
   "execution_count": null,
   "metadata": {},
   "outputs": [],
   "source": [
    "def substituicao_retroativa(b: List[List[float]], y: List[float]) -> List[float]:\n",
    "    if tipo_solucao(b, y) != TipoSolucao.UNICA:\n",
    "        raise ValueError(\"a matriz dada não admite solução unica\")\n",
    "    n = len(y)\n",
    "    x = [0.0] * n\n",
    "    for i in reversed(range(n)):\n",
    "        s = sum(b[i][j] * x[j] for j in range(i + 1, n))\n",
    "        x[i] = (y[i] - s) / b[i][i]\n",
    "    return x\n"
   ]
  },
  {
   "cell_type": "markdown",
   "metadata": {},
   "source": [
    "## Solucionar sistema"
   ]
  },
  {
   "cell_type": "code",
   "execution_count": null,
   "metadata": {},
   "outputs": [],
   "source": [
    "def solucionar_linear(b: List[List[float]], y: List[float]):\n",
    "    b, y = gauss(b, y)  # type: ignore\n",
    "    x = substituicao_retroativa(b, y)\n",
    "    return x\n"
   ]
  },
  {
   "cell_type": "markdown",
   "metadata": {},
   "source": [
    "## Gauss-Seidel"
   ]
  },
  {
   "cell_type": "code",
   "execution_count": null,
   "metadata": {},
   "outputs": [],
   "source": [
    "@dataclass\n",
    "class EstadoGauss:\n",
    "\n",
    "    i: int\n",
    "    x_ant: Optional[List[float]]\n",
    "    x: List[float]\n",
    "\n",
    "    def __init__(self, x: List[float]) -> None:\n",
    "        self.i = 1\n",
    "        self.x_ant = None\n",
    "        self.x = x\n"
   ]
  },
  {
   "cell_type": "code",
   "execution_count": null,
   "metadata": {},
   "outputs": [],
   "source": [
    "def _passo_gauss_seidel(\n",
    "    b: List[List[float]],\n",
    "    y: List[float],\n",
    "    x: List[float],\n",
    ") -> List[float]:\n",
    "    n = len(x)\n",
    "    proximo_x = [0.0] * n\n",
    "    for i in range(n):\n",
    "        soma_esquerda = sum(b[i][j] * x[j] for j in range(i))\n",
    "        soma_direita = sum(b[i][j] * x[j] for j in range(i + 1, n))\n",
    "        proximo_x[i] = (y[i] - soma_esquerda - soma_direita) / b[i][i]\n",
    "    return proximo_x\n",
    "\n",
    "\n",
    "def gauss_seidel(\n",
    "    b: List[List[float]],\n",
    "    y: List[float],\n",
    "    x_inicial: List[float],\n",
    "    criterios: List[Callable[[EstadoGauss], bool]],\n",
    "    observador: Callable[[EstadoGauss], None] = lambda _: None,\n",
    "    max_iter=MAX_ITER_PADRAO,\n",
    ") -> EstadoGauss:\n",
    "    estado = EstadoGauss(deepcopy(x_inicial))\n",
    "    while not all(c(estado) for c in criterios) and estado.i < max_iter:\n",
    "        estado.i += 1\n",
    "        estado.x_ant = estado.x\n",
    "        estado.x = _passo_gauss_seidel(b, y, estado.x)\n",
    "    return estado\n"
   ]
  },
  {
   "cell_type": "markdown",
   "metadata": {},
   "source": [
    "## Gauss-Jacob"
   ]
  },
  {
   "cell_type": "code",
   "execution_count": null,
   "metadata": {},
   "outputs": [],
   "source": [
    "def _passo_gauss_jacob(\n",
    "    b: List[List[float]],\n",
    "    y: List[float],\n",
    "    x: List[float],\n",
    ") -> List[float]:\n",
    "    n = len(x)\n",
    "    proximo_x = [0.0] * n\n",
    "    for i in range(n):\n",
    "        soma_esquerda = sum(b[i][j] * proximo_x[j] for j in range(i))\n",
    "        soma_direita = sum(b[i][j] * x[j] for j in range(i + 1, n))\n",
    "        proximo_x[i] = (y[i] - soma_esquerda - soma_direita) / b[i][i]\n",
    "    return proximo_x\n",
    "\n",
    "\n",
    "def gauss_jacob(\n",
    "    b: List[List[float]],\n",
    "    y: List[float],\n",
    "    x_inicial: List[float],\n",
    "    criterios: List[Callable[[EstadoGauss], bool]],\n",
    "    observador: Callable[[EstadoGauss], None] = lambda _: None,\n",
    "    max_iter=MAX_ITER_PADRAO,\n",
    ") -> EstadoGauss:\n",
    "    estado = EstadoGauss(deepcopy(x_inicial))\n",
    "    while not all(c(estado) for c in criterios) and estado.i < max_iter:\n",
    "        estado.i += 1\n",
    "        estado.x_ant = estado.x\n",
    "        estado.x = _passo_gauss_jacob(b, y, estado.x)\n",
    "    return estado\n"
   ]
  },
  {
   "cell_type": "markdown",
   "metadata": {},
   "source": [
    "# Interpolação"
   ]
  },
  {
   "cell_type": "markdown",
   "metadata": {},
   "source": [
    "## Polinômio de Lagrange"
   ]
  },
  {
   "cell_type": "code",
   "execution_count": null,
   "metadata": {},
   "outputs": [],
   "source": [
    "from math import prod\n",
    "\n",
    "\n",
    "def _termo_lagrange(xs: List[float], ys: List[float], x: float, i: int) -> float:\n",
    "    n = len(xs)\n",
    "    produto_superior = prod(x - xs[j] for j in range(n) if j != i)\n",
    "    produto_inferior = prod(xs[i] - xs[j] for j in range(n) if j != i)\n",
    "    return (produto_superior / produto_inferior) * ys[i]\n",
    "\n",
    "\n",
    "def polinomio_lagrange(xs: List[float], ys: List[float]) -> Callable[[float], float]:\n",
    "    xs = deepcopy(xs)\n",
    "    ys = deepcopy(ys)\n",
    "    return lambda x: sum(_termo_lagrange(xs, ys, x, i) for i in range(len(xs)))\n"
   ]
  },
  {
   "cell_type": "markdown",
   "metadata": {},
   "source": [
    "## Polinômio de Newton"
   ]
  },
  {
   "cell_type": "code",
   "execution_count": null,
   "metadata": {},
   "outputs": [],
   "source": [
    "def coeficientes_polinomio_newton(xs: List[float], ys: List[float]) -> List[float]:\n",
    "    assert len(xs) == len(ys), \"xs e ys devem ter o mesmo comprimento\"\n",
    "    n = len(xs)\n",
    "    m = [[0.0] * (n - i) for i in range(n)]\n",
    "    for i in range(n):\n",
    "        m[i][0] = ys[i]\n",
    "    for j in range(1, n):\n",
    "        for i in range(n - j):\n",
    "            m[i][j] = (m[i + 1][j - 1] - m[i][j - 1]) / (xs[i + j] - xs[i])\n",
    "    return m[0]\n",
    "\n",
    "\n",
    "def _termo_newton(xs: List[float], coefs: List[float], x: float, i: int) -> float:\n",
    "    return coefs[i] * prod(x - xs[j] for j in range(i))\n",
    "\n",
    "\n",
    "def polinomio_newton(xs: List[float], coefs: List[float]):\n",
    "    xs = deepcopy(xs)\n",
    "    coefs = deepcopy(coefs)\n",
    "    return lambda x: sum(_termo_newton(xs, coefs, x, i) for i in range(len(xs)))\n"
   ]
  },
  {
   "cell_type": "markdown",
   "metadata": {},
   "source": [
    "## Spline quadrática"
   ]
  },
  {
   "cell_type": "code",
   "execution_count": null,
   "metadata": {},
   "outputs": [],
   "source": [
    "_ESQUERDA = 0\n",
    "_DIREITA = 1\n",
    "\n",
    "\n",
    "def _linha(x: float, grau: int = 0) -> List[float]:\n",
    "    match grau:\n",
    "        case 0:\n",
    "            return [1.0, x, x**2]\n",
    "        case 1:\n",
    "            return [0, 1.0, 2 * x]\n",
    "        case 2:\n",
    "            return [0.0, 0.0, 2.0]\n",
    "        case _:\n",
    "            raise ValueError(f\"valor de grau {grau} invalido\")\n",
    "\n",
    "\n",
    "def _valor_derivada(coefs: List[float], x: float) -> float:\n",
    "    return sum(i * x ** (i - 1) * coefs[i] for i in range(1, len(coefs)))\n",
    "\n",
    "\n",
    "def _segmento_spline(\n",
    "    xs: List[float],\n",
    "    ys: List[float],\n",
    "    derivada: float,\n",
    "    grau: int,\n",
    "    indice: int,\n",
    "    lado: int,\n",
    ") -> List[float]:\n",
    "    x = [\n",
    "        _linha(xs[indice]),\n",
    "        _linha(xs[indice + 1]),\n",
    "        _linha(xs[indice + lado], grau),\n",
    "    ]\n",
    "    y = [ys[indice], ys[indice + 1], derivada]\n",
    "    return solucionar_linear(x, y)\n",
    "\n",
    "\n",
    "def coeficientes_spline_quadratica(\n",
    "    xs: List[float],\n",
    "    ys: List[float],\n",
    "    derivada: float = DERIVADA_SPLINE_PADRAO,\n",
    "    grau: int = GRAU_SPLINE_PADRAO,\n",
    "    indice: int = INDICE_SPLINE_PADRAO,\n",
    ") -> List[List[float]]:\n",
    "    assert len(xs) == len(ys), \"xs e ys devem ter o mesmo comprimento\"\n",
    "    assert grau in [1, 2], \"grau inválido\"\n",
    "    assert 0 <= indice, \"indice não pode ser menor que 0\"\n",
    "    assert indice < len(xs), \"indice não pode ser menor que len(ys)\"\n",
    "    lista_coefs: List[List[float]] = [[]] * (len(xs) - 1)\n",
    "    # Resolve os coeficientes para as funções a esquerda\n",
    "    d = derivada\n",
    "    g = grau\n",
    "    for i in range(indice - 1, -1, -1):\n",
    "        coefs = _segmento_spline(xs, ys, d, g, i, _DIREITA)\n",
    "        lista_coefs[i] = coefs\n",
    "        d = _valor_derivada(coefs, xs[i])\n",
    "        g = 1\n",
    "    # Resolve os coeficientes para as funções a direita\n",
    "    if indice == 0:\n",
    "        d = derivada\n",
    "        g = grau\n",
    "    else:\n",
    "        d = _valor_derivada(lista_coefs[indice - 1], xs[indice])\n",
    "        g = 1\n",
    "    for i in range(indice, len(xs) - 1):\n",
    "        coefs = _segmento_spline(xs, ys, d, g, i, _ESQUERDA)\n",
    "        lista_coefs[i] = coefs\n",
    "        d = _valor_derivada(coefs, xs[i + 1])\n",
    "        g = 1\n",
    "    return lista_coefs\n",
    "\n",
    "\n",
    "def spline_quadratica(\n",
    "    xs: List[float], lista_coefs: List[List[float]]\n",
    ") -> Callable[[float], float]:\n",
    "    xs = deepcopy(xs)\n",
    "    lista_coefs = deepcopy(lista_coefs)\n",
    "    fs = [polinomio(coefs) for coefs in lista_coefs]\n",
    "\n",
    "    def interpolador(x):\n",
    "        for i in range(len(xs) - 1):\n",
    "            if x < xs[i + 1]:\n",
    "                return fs[i](x)\n",
    "        return fs[-1](x)\n",
    "\n",
    "    return interpolador\n"
   ]
  },
  {
   "cell_type": "markdown",
   "metadata": {},
   "source": [
    "# Ajuste de curvas"
   ]
  },
  {
   "cell_type": "markdown",
   "metadata": {},
   "source": [
    "## Minimos quadrados"
   ]
  },
  {
   "cell_type": "code",
   "execution_count": null,
   "metadata": {},
   "outputs": [],
   "source": [
    "def _produto_escalar(a: List[float], b: List[float]):\n",
    "    return sum(i * j for i, j in zip(a, b))\n",
    "\n",
    "\n",
    "def coeficientes_minimos_quadrados(\n",
    "    xs: List[float],\n",
    "    ys: List[float],\n",
    "    fs: List[Callable[[float], float]],\n",
    ") -> List[float]:\n",
    "    assert len(xs) == len(ys), \"xs e ys devem ter o mesmo comprimento\"\n",
    "    n = len(fs)\n",
    "    gs = [[f(x) for x in xs] for f in fs]\n",
    "    b = [[_produto_escalar(gs[i], gs[j]) for i in range(n)] for j in range(n)]\n",
    "    y = [_produto_escalar(gs[i], ys) for i in range(n)]\n",
    "    return solucionar_linear(b, y)\n",
    "\n",
    "\n",
    "def minimos_quadrados(\n",
    "    fs: List[Callable[[float], float]],\n",
    "    coefs: List[float],\n",
    "):\n",
    "    coefs = deepcopy(coefs)\n",
    "    return lambda x: sum(c * f(x) for c, f in zip(coefs, fs))\n",
    "\n",
    "\n",
    "def soma_quadrado_residuos(\n",
    "    xs: List[float],\n",
    "    ys: List[float],\n",
    "    f: Callable[[float], float],\n",
    ") -> float:\n",
    "    return sum((y - f(x)) ** 2 for x, y in zip(xs, ys))\n"
   ]
  },
  {
   "cell_type": "markdown",
   "metadata": {},
   "source": [
    "# Condições de parada"
   ]
  },
  {
   "cell_type": "code",
   "execution_count": null,
   "metadata": {},
   "outputs": [],
   "source": [
    "def limite_iteracao(i: int) -> Callable[[Any], bool]:\n",
    "    return lambda est: est.i >= i\n",
    "\n",
    "\n",
    "def criterio_erro_absoluto(\n",
    "    ref: float,\n",
    "    erro_max: float,\n",
    ") -> Callable[[EstadoAB | EstadoX], bool]:\n",
    "    return lambda est: erro_absoluto(ref, est.x) < erro_max\n",
    "\n",
    "\n",
    "def criterio_ab(erro_max: float) -> Callable[[EstadoAB], bool]:\n",
    "    return lambda est: est.b - est.a < 2 * erro_max\n",
    "\n",
    "\n",
    "def criterio_x(erro_max: float) -> Callable[[EstadoAB | EstadoX], bool]:\n",
    "    return lambda est: est.f(est.x - erro_max) * est.f(est.x + erro_max) < 0\n",
    "\n",
    "\n",
    "def criterio_delta_x(delta: float) -> Callable[[EstadoAB | EstadoX], bool]:\n",
    "    return lambda est: est.x_ant is not None and abs(est.x - est.x_ant) < delta\n",
    "\n",
    "\n",
    "def criterio_y(dist_zero: float) -> Callable[[EstadoAB | EstadoX], bool]:\n",
    "    return lambda est: abs(est.y) < dist_zero\n",
    "\n",
    "\n",
    "def criterio_delta_x_vetor(delta: float) -> Callable[[EstadoGauss], bool]:\n",
    "    return lambda est: est.x_ant is not None and all(\n",
    "        (abs(i - j) < delta) for i, j in zip(est.x_ant, est.x)\n",
    "    )\n"
   ]
  },
  {
   "cell_type": "markdown",
   "metadata": {},
   "source": [
    "# Derivação numérica"
   ]
  },
  {
   "cell_type": "code",
   "execution_count": null,
   "metadata": {},
   "outputs": [],
   "source": [
    "def derivada_direita(\n",
    "    f: Callable[[float], float], delta=DELTA_DERIVACAO_PADRAO\n",
    ") -> Callable[[float], float]:\n",
    "    return lambda x: (f(x + delta) - f(x)) / delta\n",
    "\n",
    "\n",
    "def derivada_esquerda(\n",
    "    f: Callable[[float], float], delta=DELTA_DERIVACAO_PADRAO\n",
    ") -> Callable[[float], float]:\n",
    "    return lambda x: (f(x - delta) - f(x)) / delta\n",
    "\n",
    "\n",
    "def derivada_central(\n",
    "    f: Callable[[float], float], delta=DELTA_DERIVACAO_PADRAO\n",
    ") -> Callable[[float], float]:\n",
    "    return lambda x: (f(x + delta) - f(x - delta)) / (2 * delta)\n"
   ]
  },
  {
   "cell_type": "markdown",
   "metadata": {},
   "source": [
    "# Diferenciação numérica"
   ]
  },
  {
   "cell_type": "code",
   "execution_count": null,
   "metadata": {},
   "outputs": [],
   "source": [
    "def diferenca_finita(\n",
    "    h: float, ordem: int, coefs: List[float], divisor: float, ys: List[float]\n",
    ") -> float:\n",
    "    assert len(coefs) == len(ys), \"tamanho de coefs e ys devem ser iguais\"\n",
    "    return sum(c * y for c, y in zip(coefs, ys)) / divisor * h**ordem\n",
    "\n",
    "\n",
    "def coeficientes_diferenca(\n",
    "    pontos: List[int], ordem: int, ajustar: bool = True\n",
    ") -> Tuple[List[float], float]:\n",
    "    assert ordem >= 1, \"ordem deve ser no mínimo 1\"\n",
    "    assert len(pontos) > ordem, \"o numero de pontos deve ser maior que a ordem\"\n",
    "    n = len(pontos)\n",
    "    b = [[p**i for p in pontos] for i in range(n)]\n",
    "    y = [0.0] * n\n",
    "    y[ordem] = factorial(ordem)\n",
    "    coefs = solucionar_linear(b, y)\n",
    "    if ajustar:\n",
    "        return numeradores_denominador_comum(coefs)\n",
    "    else:\n",
    "        return coefs, 1.0\n",
    "\n",
    "\n",
    "def ordem_erro_diferenca(numero_pontos: int, ordem: int) -> int:\n",
    "    return numero_pontos - ordem\n"
   ]
  },
  {
   "cell_type": "markdown",
   "metadata": {},
   "source": [
    "# Integração numérica"
   ]
  },
  {
   "cell_type": "markdown",
   "metadata": {},
   "source": [
    "## Método composto"
   ]
  },
  {
   "cell_type": "code",
   "execution_count": null,
   "metadata": {},
   "outputs": [],
   "source": [
    "def integracao_composta(\n",
    "    f: Callable[[float], float],\n",
    "    integrador: Callable[[Callable[[float], float], float, float], float],\n",
    "    a: float,\n",
    "    b: float,\n",
    "    n=50,\n",
    ") -> float:\n",
    "    h = (b - a) / n\n",
    "    return sum(integrador(f, x, x + h) for x in (lerp(a, b, i / n) for i in range(n)))\n"
   ]
  },
  {
   "cell_type": "markdown",
   "metadata": {},
   "source": [
    "## Método do retângulo"
   ]
  },
  {
   "cell_type": "code",
   "execution_count": null,
   "metadata": {},
   "outputs": [],
   "source": [
    "def integracao_retangulo_esquerda(f: Callable[[float], float], a: float, b: float):\n",
    "    return f(a) * (b - a)\n",
    "\n",
    "\n",
    "def integracao_retangulo_direita(f: Callable[[float], float], a: float, b: float):\n",
    "    return f(b) * (b - a)\n",
    "\n",
    "\n",
    "def estimar_erro_integracao_retangulo(\n",
    "    a: float, b: float, max_1_der: float, h: Optional[float] = None\n",
    ") -> float:\n",
    "    if h is None:\n",
    "        h = b - a\n",
    "    return (b - a) / 2 * max_1_der * h\n",
    "\n",
    "\n",
    "def espacamento_integracao_retangulo(\n",
    "    a: float, b: float, max_1_der: float, erro: float\n",
    ") -> float:\n",
    "    return -(2 * erro) / (max_1_der * (a - b))\n"
   ]
  },
  {
   "cell_type": "markdown",
   "metadata": {},
   "source": [
    "## Método do ponto central"
   ]
  },
  {
   "cell_type": "code",
   "execution_count": null,
   "metadata": {},
   "outputs": [],
   "source": [
    "def integracao_central(f: Callable[[float], float], a: float, b: float):\n",
    "    return f((a + b) / 2) * (b - a)\n",
    "\n",
    "\n",
    "def estimar_erro_integracao_central(\n",
    "    a: float, b: float, max_2_der: float, h: Optional[float] = None\n",
    ") -> float:\n",
    "    if h is None:\n",
    "        h = b - a\n",
    "    return (b - a) / 24 * max_2_der * h**2\n"
   ]
  },
  {
   "cell_type": "markdown",
   "metadata": {},
   "source": [
    "## Método do trapézio"
   ]
  },
  {
   "cell_type": "code",
   "execution_count": null,
   "metadata": {},
   "outputs": [],
   "source": [
    "def integracao_trapezio(f: Callable[[float], float], a: float, b: float):\n",
    "    return (f(a) + f(b)) * (b - a) / 2\n",
    "\n",
    "\n",
    "def estimar_erro_integracao_trapezio(\n",
    "    a: float, b: float, max_2_der: float, h: Optional[float] = None\n",
    ") -> float:\n",
    "    if h is None:\n",
    "        h = b - a\n",
    "    return (b - a) / 12 * max_2_der * h**2\n"
   ]
  },
  {
   "cell_type": "markdown",
   "metadata": {},
   "source": [
    "## Método de Simpson $1/3$"
   ]
  },
  {
   "cell_type": "code",
   "execution_count": null,
   "metadata": {},
   "outputs": [],
   "source": [
    "def integracao_1_3_simpson(f: Callable[[float], float], a: float, b: float):\n",
    "    h = (b - a) / 2\n",
    "    return (h / 3) * (f(a) + 4 * f((a + b) / 2) + f(b))\n"
   ]
  },
  {
   "cell_type": "markdown",
   "metadata": {},
   "source": [
    "# Formulas"
   ]
  },
  {
   "cell_type": "code",
   "execution_count": null,
   "metadata": {},
   "outputs": [],
   "source": [
    "def _pos_processar_formula(formula: str) -> str:\n",
    "    return (\n",
    "        formula.replace(\"=+\", \"=\")\n",
    "        .replace(\"(+\", \"(\")\n",
    "        .replace(\"++\", \"+\")\n",
    "        .replace(\"+-\", \"-\")\n",
    "        .replace(\"-+\", \"-\")\n",
    "        .replace(\"--\", \"-\")\n",
    "    )\n",
    "\n",
    "\n",
    "def _formula_termo_polinomio(coeficiente: float, potencia: int, formato: str) -> str:\n",
    "    if potencia == 0:\n",
    "        return f\"{coeficiente:{formato}}\"\n",
    "    elif potencia == 1:\n",
    "        return f\"{coeficiente:{formato}}x\"\n",
    "    else:\n",
    "        return f\"{coeficiente:{formato}}x^{potencia}\"\n",
    "\n",
    "\n",
    "def formula_polinomio(coefs: List[float], formato=FORMATO_PADRAO) -> str:\n",
    "    formula = \"+\".join(\n",
    "        _formula_termo_polinomio(coefs[i], i, formato)\n",
    "        for i in reversed(range(len(coefs)))\n",
    "    )\n",
    "    return _pos_processar_formula(formula)\n",
    "\n",
    "\n",
    "def formula_polinomio_newton(\n",
    "    xs: List[float],\n",
    "    coefs: List[float],\n",
    "    formato=FORMATO_PADRAO,\n",
    ") -> str:\n",
    "    formula = \"+\".join(\n",
    "        f\"{coefs[i]:{formato}}\" + \"\".join(f\"(x-{xs[j]:{formato}})\" for j in range(i))\n",
    "        for i in range(len(coefs))\n",
    "    )\n",
    "    return _pos_processar_formula(formula)\n",
    "\n",
    "\n",
    "def formula_minimos_quadrados(coefs: List[float], formato=FORMATO_PADRAO) -> str:\n",
    "    formula = \"+\".join(f\"{c:{formato}}f_{i}\" for i, c in enumerate(coefs))\n",
    "    return _pos_processar_formula(formula)\n",
    "\n",
    "\n",
    "def formula_diferenciacao(\n",
    "    ordem: int,\n",
    "    coefs: List[float],\n",
    "    divisor: float,\n",
    "    formato=FORMATO_PADRAO,\n",
    ") -> str:\n",
    "    superior = \"+\".join(\n",
    "        f\"{c:{formato}} \\\\cdot f^{{({i})}}(x)\\\\frac{{h^{i}}}{{{i}!}}\"\n",
    "        for i, c in enumerate(coefs)\n",
    "    )\n",
    "    inferior = f\"{divisor:{formato}}\\\\cdot h^{ordem}\"\n",
    "    formula = f\"\\\\frac{{{superior}}}{{{inferior}}}\"\n",
    "    return _pos_processar_formula(formula)\n"
   ]
  },
  {
   "cell_type": "markdown",
   "metadata": {},
   "source": [
    "# Exemplos"
   ]
  },
  {
   "cell_type": "code",
   "execution_count": null,
   "metadata": {},
   "outputs": [],
   "source": [
    "def exemplo_linear(x):\n",
    "    return 2 * x + 2\n",
    "\n",
    "\n",
    "def exemplo_poli(x):\n",
    "    return x**2 + x - 6\n",
    "\n",
    "\n",
    "def exemplo_exp(x):\n",
    "    return e ** (x**2)\n",
    "\n",
    "\n",
    "def exemplo_iter_poli(x):\n",
    "    return sqrt(6 - x)\n",
    "\n",
    "\n",
    "exemplo_b = [\n",
    "    [9.0, 2.0, 1.0],\n",
    "    [5.0, 7.0, 2.0],\n",
    "    [6.0, 2.0, 11.0],\n",
    "]\n",
    "\n",
    "exemplo_y = [3.0, 3.0, 1.0]\n",
    "\n",
    "exemplo_xs = [1.0, 4.0, 7.0, 8.0, 11.0]\n",
    "exemplo_ys = [2.0, 5.0, 3.0, 4.0, 1.0]\n"
   ]
  },
  {
   "cell_type": "markdown",
   "metadata": {},
   "source": [
    "## Exemplo bisseção"
   ]
  },
  {
   "cell_type": "code",
   "execution_count": null,
   "metadata": {},
   "outputs": [],
   "source": [
    "res = bissecao(exemplo_linear, -3, 3, [criterio_ab(10**-4)])\n"
   ]
  },
  {
   "cell_type": "code",
   "execution_count": null,
   "metadata": {},
   "outputs": [],
   "source": [
    "x = np.linspace(-5, 5)\n",
    "y = np.vectorize(exemplo_linear)(x)\n",
    "_ = plot.axhline(0, color=\"k\")\n",
    "_ = plot.plot(x, y)\n",
    "_ = plot.scatter([res.x], [res.y])\n",
    "_ = plot.text(res.x, 1, f\"{res.x:{FORMATO_PADRAO}}\", horizontalalignment=\"center\")\n"
   ]
  },
  {
   "cell_type": "markdown",
   "metadata": {},
   "source": [
    "## Exemplo Newton-Raphson"
   ]
  },
  {
   "cell_type": "code",
   "execution_count": null,
   "metadata": {},
   "outputs": [],
   "source": [
    "f = exemplo_poli\n",
    "d = derivada_central(f)\n",
    "res_1 = newton_raphson(f, d, -2, [criterio_x(10**-4)])\n",
    "res_2 = newton_raphson(f, d, 4, [criterio_x(10**-4)])\n"
   ]
  },
  {
   "cell_type": "code",
   "execution_count": null,
   "metadata": {},
   "outputs": [],
   "source": [
    "x = np.linspace(-8, 8)\n",
    "y = np.vectorize(f)(x)\n",
    "_ = plot.axhline(color=\"k\")\n",
    "_ = plot.plot(x, y)\n",
    "_ = plot.scatter([res_1.x, res_2.x], [res_1.y, res_2.y])\n",
    "_ = plot.text(res_1.x, 4, f\"{res_1.x:{FORMATO_PADRAO}}\", horizontalalignment=\"center\")\n",
    "_ = plot.text(res_2.x, 4, f\"{res_2.x:{FORMATO_PADRAO}}\", horizontalalignment=\"center\")\n"
   ]
  },
  {
   "cell_type": "markdown",
   "metadata": {},
   "source": [
    "## Exemplo solucionar linear"
   ]
  },
  {
   "cell_type": "code",
   "execution_count": null,
   "metadata": {},
   "outputs": [],
   "source": [
    "x = solucionar_linear(exemplo_b, exemplo_y)\n",
    "print(x)\n"
   ]
  },
  {
   "cell_type": "markdown",
   "metadata": {},
   "source": [
    "## Exemplo Gauss-Seidel"
   ]
  },
  {
   "cell_type": "code",
   "execution_count": null,
   "metadata": {},
   "outputs": [],
   "source": [
    "x_inicial = [1.0, 1.0, 1.0]\n",
    "res = gauss_seidel(exemplo_b, exemplo_y, x_inicial, [criterio_delta_x_vetor(10**-4)])\n",
    "print(f\"Solução {res.x} Encontrada em {res.i} passos\")\n"
   ]
  },
  {
   "cell_type": "markdown",
   "metadata": {},
   "source": [
    "## Exemplo polinômio de Lagrange"
   ]
  },
  {
   "cell_type": "code",
   "execution_count": null,
   "metadata": {},
   "outputs": [],
   "source": [
    "f = polinomio_lagrange(exemplo_xs, exemplo_ys)\n"
   ]
  },
  {
   "cell_type": "code",
   "execution_count": null,
   "metadata": {},
   "outputs": [],
   "source": [
    "x = np.linspace(1, 11)\n",
    "y = np.vectorize(f)(x)\n",
    "_ = plot.scatter(exemplo_xs, exemplo_ys)\n",
    "_ = plot.plot(x, y)\n"
   ]
  },
  {
   "cell_type": "markdown",
   "metadata": {},
   "source": [
    "## Exemplo polinômio de Newton"
   ]
  },
  {
   "cell_type": "code",
   "execution_count": null,
   "metadata": {},
   "outputs": [],
   "source": [
    "coefs = coeficientes_polinomio_newton(exemplo_xs, exemplo_ys)\n",
    "f = polinomio_newton(exemplo_xs, coefs)\n"
   ]
  },
  {
   "cell_type": "code",
   "execution_count": null,
   "metadata": {},
   "outputs": [],
   "source": [
    "display_latex(Latex(f\"$f(x)={formula_polinomio_newton(exemplo_xs, coefs)}$\"))\n"
   ]
  },
  {
   "cell_type": "code",
   "execution_count": null,
   "metadata": {},
   "outputs": [],
   "source": [
    "x = np.linspace(1, 11)\n",
    "y = np.vectorize(f)(x)\n",
    "_ = plot.scatter(exemplo_xs, exemplo_ys)\n",
    "_ = plot.plot(x, y)\n"
   ]
  },
  {
   "cell_type": "markdown",
   "metadata": {},
   "source": [
    "## Exemplo spline quadrática"
   ]
  },
  {
   "cell_type": "code",
   "execution_count": null,
   "metadata": {},
   "outputs": [],
   "source": [
    "lista_coefs = coeficientes_spline_quadratica(exemplo_xs, exemplo_ys, indice=1)\n",
    "f = spline_quadratica(exemplo_xs, lista_coefs)\n"
   ]
  },
  {
   "cell_type": "code",
   "execution_count": null,
   "metadata": {},
   "outputs": [],
   "source": [
    "formulas = [formula_polinomio(coefs) for coefs in lista_coefs]\n",
    "display_latex(Latex(\"\\n\\n\".join(f\"$f_{i}(x)={f}$\" for i, f in enumerate(formulas))))\n"
   ]
  },
  {
   "cell_type": "code",
   "execution_count": null,
   "metadata": {},
   "outputs": [],
   "source": [
    "x = np.linspace(1, 11)\n",
    "y = np.vectorize(f)(x)\n",
    "_ = plot.scatter(exemplo_xs, exemplo_ys)\n",
    "_ = plot.plot(x, y)\n"
   ]
  },
  {
   "cell_type": "markdown",
   "metadata": {},
   "source": [
    "## Exemplo minimos quadrados "
   ]
  },
  {
   "cell_type": "code",
   "execution_count": null,
   "metadata": {},
   "outputs": [],
   "source": [
    "fs = [lambda x: 1, lambda x: x, lambda x: x**2]\n",
    "coefs = coeficientes_minimos_quadrados(exemplo_xs, exemplo_ys, fs)\n",
    "f = minimos_quadrados(fs, coefs)\n"
   ]
  },
  {
   "cell_type": "code",
   "execution_count": null,
   "metadata": {},
   "outputs": [],
   "source": [
    "erro = soma_quadrado_residuos(exemplo_xs, exemplo_ys, f)\n",
    "display_latex(Latex(f\"erro: ${erro:{FORMATO_PADRAO}}$\"))\n",
    "display_latex(Latex(f\"${formula_minimos_quadrados(coefs)}$\"))\n"
   ]
  },
  {
   "cell_type": "code",
   "execution_count": null,
   "metadata": {},
   "outputs": [],
   "source": [
    "x = np.linspace(0, 12)\n",
    "y = np.vectorize(f)(x)\n",
    "_ = plot.scatter(exemplo_xs, exemplo_ys)\n",
    "_ = plot.plot(x, y)\n"
   ]
  },
  {
   "cell_type": "markdown",
   "metadata": {},
   "source": [
    "## Exemplo diferenciação numérica"
   ]
  },
  {
   "cell_type": "code",
   "execution_count": null,
   "metadata": {},
   "outputs": [],
   "source": [
    "pontos = list(range(-3, 4))\n",
    "h = 1\n",
    "ordem = 2\n",
    "ordem_erro = ordem_erro_diferenca(len(pontos), ordem)\n",
    "coefs, divisor = coeficientes_diferenca(pontos, ordem)\n"
   ]
  },
  {
   "cell_type": "code",
   "execution_count": null,
   "metadata": {},
   "outputs": [],
   "source": [
    "formula = formula_diferenciacao(ordem, coefs, divisor)\n",
    "display(Latex(f\"$$E = O(h^{ordem_erro})$$\"))\n",
    "display(Latex(f\"$$\\\\frac{{\\\\partial f}}{{\\\\partial x}} \\\\approx {formula}$$\"))\n"
   ]
  },
  {
   "cell_type": "markdown",
   "metadata": {},
   "source": [
    "## Exemplo integração numérica"
   ]
  },
  {
   "cell_type": "code",
   "execution_count": null,
   "metadata": {},
   "outputs": [],
   "source": [
    "a = 0\n",
    "b = 1\n",
    "\n",
    "valor = integracao_composta(exemplo_exp, integracao_1_3_simpson, a, b)\n",
    "display_latex(Latex(f\"$\\\\int_{a}^{b} f(x) dx = {valor:{FORMATO_PADRAO}}$\"))\n"
   ]
  },
  {
   "cell_type": "markdown",
   "metadata": {},
   "source": [
    "# Playground "
   ]
  },
  {
   "cell_type": "code",
   "execution_count": null,
   "metadata": {},
   "outputs": [],
   "source": [
    "# Experimente o código aqui\n"
   ]
  }
 ],
 "metadata": {
  "kernelspec": {
   "display_name": "Python 3.10.6 ('ufc-cn-b54AWIvS')",
   "language": "python",
   "name": "python3"
  },
  "language_info": {
   "codemirror_mode": {
    "name": "ipython",
    "version": 3
   },
   "file_extension": ".py",
   "mimetype": "text/x-python",
   "name": "python",
   "nbconvert_exporter": "python",
   "pygments_lexer": "ipython3",
   "version": "3.10.6"
  },
  "orig_nbformat": 4,
  "vscode": {
   "interpreter": {
    "hash": "c427529decd77bc5da510ed8a456a9f915b44783812eea571b0205a909858cdb"
   }
  }
 },
 "nbformat": 4,
 "nbformat_minor": 2
}
