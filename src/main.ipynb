{
 "cells": [
  {
   "cell_type": "code",
   "execution_count": 1,
   "metadata": {},
   "outputs": [],
   "source": [
    "from typing import Callable, List, Tuple, Optional, Any\n",
    "from math import sqrt, inf\n",
    "from enum import Enum\n",
    "from copy import deepcopy\n",
    "from dataclasses import dataclass\n",
    "\n",
    "import numpy as np\n",
    "import matplotlib.pyplot as plot\n"
   ]
  },
  {
   "cell_type": "markdown",
   "metadata": {},
   "source": [
    "# Constantes"
   ]
  },
  {
   "cell_type": "code",
   "execution_count": 2,
   "metadata": {},
   "outputs": [],
   "source": [
    "MAX_ITER_PADRAO = 100\n",
    "DELTA_DERIVACAO_PADRAO = 10**-4\n",
    "DERIVADA_SPLINE_PADRAO = 0\n",
    "GRAU_SPLINE_PADRAO = 2\n",
    "INDICE_SPLINE_PADRAO = 0\n"
   ]
  },
  {
   "cell_type": "markdown",
   "metadata": {},
   "source": [
    "# Derivação numerica"
   ]
  },
  {
   "cell_type": "code",
   "execution_count": 3,
   "metadata": {},
   "outputs": [],
   "source": [
    "def derivada_direita(f: Callable[[float], float], delta=DELTA_DERIVACAO_PADRAO):\n",
    "    return lambda x: (f(x + delta) - f(x)) / delta\n",
    "\n",
    "\n",
    "def derivada_esquerda(f: Callable[[float], float], delta=DELTA_DERIVACAO_PADRAO):\n",
    "    return lambda x: (f(x - delta) - f(x)) / delta\n",
    "\n",
    "\n",
    "def derivada_central(f: Callable[[float], float], delta=DELTA_DERIVACAO_PADRAO):\n",
    "    return lambda x: (f(x + delta) - f(x - delta)) / (2 * delta)\n"
   ]
  },
  {
   "cell_type": "markdown",
   "metadata": {},
   "source": [
    "# Métodos iterativos"
   ]
  },
  {
   "cell_type": "markdown",
   "metadata": {},
   "source": [
    "## Calculo do erro"
   ]
  },
  {
   "cell_type": "code",
   "execution_count": 4,
   "metadata": {},
   "outputs": [],
   "source": [
    "def erro_absoluto(referencia: float, estimativa: float) -> float:\n",
    "    return abs(referencia - estimativa)\n",
    "\n",
    "\n",
    "def erro_relativo(referencia: float, estimativa: float) -> float:\n",
    "    return abs((referencia - estimativa) / estimativa)\n"
   ]
  },
  {
   "cell_type": "markdown",
   "metadata": {},
   "source": [
    "## Classes de estado"
   ]
  },
  {
   "cell_type": "code",
   "execution_count": 5,
   "metadata": {},
   "outputs": [],
   "source": [
    "@dataclass\n",
    "class EstadoAB:\n",
    "\n",
    "    f: Callable[[float], float]\n",
    "    i: int\n",
    "    a: float\n",
    "    b: float\n",
    "    x_ant: Optional[float]\n",
    "    x: float\n",
    "    y: float\n",
    "\n",
    "    def __init__(\n",
    "        self, f: Callable[[float], float], a: float, b: float, x: float, y: float\n",
    "    ) -> None:\n",
    "        self.f = f\n",
    "        self.i: int = 1\n",
    "        self.a = a\n",
    "        self.b = b\n",
    "        self.x_ant = None\n",
    "        self.x = x\n",
    "        self.y = y\n",
    "\n",
    "    def __str__(self) -> str:\n",
    "        return f\"iteracao: {self.i}, a: {self.a}, b: {self.b}, x: {self.x}, y: {self.y}\"\n"
   ]
  },
  {
   "cell_type": "code",
   "execution_count": 6,
   "metadata": {},
   "outputs": [],
   "source": [
    "@dataclass\n",
    "class EstadoX:\n",
    "\n",
    "    f: Callable[[float], float]\n",
    "    fi: Callable[[float], float]\n",
    "    i: int\n",
    "    x_ant: Optional[float]\n",
    "    x: float\n",
    "    y: float\n",
    "\n",
    "    def __init__(\n",
    "        self,\n",
    "        f: Callable[[float], float],\n",
    "        fi: Callable[[float], float],\n",
    "        x: float,\n",
    "        y: float,\n",
    "    ) -> None:\n",
    "        self.f = f\n",
    "        self.fi = fi\n",
    "        self.i: int = 1\n",
    "        self.x_ant = None\n",
    "        self.x = x\n",
    "        self.y = y\n",
    "\n",
    "    def __str__(self) -> str:\n",
    "        return f\"iteracao: {self.i}, x: {self.x}, y:{self.y}\"\n"
   ]
  },
  {
   "cell_type": "markdown",
   "metadata": {},
   "source": [
    "## Método da bisseçao"
   ]
  },
  {
   "cell_type": "code",
   "execution_count": 7,
   "metadata": {},
   "outputs": [],
   "source": [
    "def bissecao(\n",
    "    f: Callable[[float], float],\n",
    "    a: float,\n",
    "    b: float,\n",
    "    criterios: list[Callable[[EstadoAB], bool]],\n",
    "    observador: Callable[[EstadoAB], None] = lambda _: None,\n",
    "    max_iter=MAX_ITER_PADRAO,\n",
    "):\n",
    "    a, b = sorted([a, b])\n",
    "    x = (a + b) / 2\n",
    "    est = EstadoAB(f, a, b, x, f(x))\n",
    "    observador(est)\n",
    "    while not all(map(lambda c: c(est), criterios)) and est.i < max_iter:\n",
    "        est.i += 1\n",
    "        if f(est.a) * est.y < 0:\n",
    "            est.b = est.x\n",
    "        else:\n",
    "            est.a = est.x\n",
    "        est.x_ant = est.x\n",
    "        est.x = (est.a + est.b) / 2\n",
    "        est.y = f(est.x)\n",
    "        observador(est)\n",
    "    return est\n"
   ]
  },
  {
   "cell_type": "markdown",
   "metadata": {},
   "source": [
    "## Método da falsa posição"
   ]
  },
  {
   "cell_type": "code",
   "execution_count": 8,
   "metadata": {},
   "outputs": [],
   "source": [
    "def falsa_posicao(\n",
    "    f: Callable[[float], float],\n",
    "    a: float,\n",
    "    b: float,\n",
    "    criterios: list[Callable[[EstadoAB], bool]],\n",
    "    observador: Callable[[EstadoAB], None] = lambda _: None,\n",
    "    max_iter=MAX_ITER_PADRAO,\n",
    "):\n",
    "    a, b = sorted([a, b])\n",
    "    x = (a * f(b) - b * f(a)) / (f(b) - f(a))\n",
    "    est = EstadoAB(f, a, b, x, f(x))\n",
    "    observador(est)\n",
    "    while not all(map(lambda c: c(est), criterios)) and est.i < max_iter:\n",
    "        est.i += 1\n",
    "        if f(est.a) * est.y < 0:\n",
    "            est.b = est.x\n",
    "        else:\n",
    "            est.a = est.x\n",
    "        est.x_ant = est.x\n",
    "        est.x = (est.a * f(est.b) - est.b * f(est.a)) / (f(est.b) - f(est.a))\n",
    "        est.y = f(est.x)\n",
    "        observador(est)\n",
    "    return est\n"
   ]
  },
  {
   "cell_type": "markdown",
   "metadata": {},
   "source": [
    "## Método do ponto fixo"
   ]
  },
  {
   "cell_type": "code",
   "execution_count": 9,
   "metadata": {},
   "outputs": [],
   "source": [
    "def ponto_fixo(\n",
    "    f: Callable[[float], float],\n",
    "    fi: Callable[[float], float],\n",
    "    x: float,\n",
    "    criterios: list[Callable[[EstadoX], bool]],\n",
    "    observador: Callable[[EstadoX], None] = lambda _: None,\n",
    "    max_iter=MAX_ITER_PADRAO,\n",
    "):\n",
    "    est = EstadoX(f, fi, x, f(x))\n",
    "    observador(est)\n",
    "    while not all(map(lambda c: c(est), criterios)) and est.i < max_iter:\n",
    "        est.i += 1\n",
    "        est.x_ant = est.x\n",
    "        est.x = fi(est.x)\n",
    "        est.y = f(est.x)\n",
    "        observador(est)\n",
    "    return est\n"
   ]
  },
  {
   "cell_type": "markdown",
   "metadata": {},
   "source": [
    "## Método de Newtown-Raphson"
   ]
  },
  {
   "cell_type": "code",
   "execution_count": 10,
   "metadata": {},
   "outputs": [],
   "source": [
    "def newton_raphson(\n",
    "    f: Callable[[float], float],\n",
    "    x: float,\n",
    "    criterios: List[Callable[[EstadoX], bool]],\n",
    "    observador: Callable[[EstadoX], None] = lambda x: None,\n",
    "    max_iter=MAX_ITER_PADRAO,\n",
    "):\n",
    "    d = derivada_central(f)\n",
    "    fi = lambda x: x - f(x) / d(x)\n",
    "    return ponto_fixo(f, fi, x, criterios, observador, max_iter)\n"
   ]
  },
  {
   "cell_type": "markdown",
   "metadata": {},
   "source": [
    "# Sistemas lineares"
   ]
  },
  {
   "cell_type": "markdown",
   "metadata": {},
   "source": [
    "## Método de Gauss"
   ]
  },
  {
   "cell_type": "code",
   "execution_count": 11,
   "metadata": {},
   "outputs": [],
   "source": [
    "def _multiplicar_somar(\n",
    "    fator: float,\n",
    "    ori: int,\n",
    "    dest: int,\n",
    "    b: List[List[float]],\n",
    "    y: Optional[List[float]] = None,\n",
    "):\n",
    "    colunas = len(b[0])\n",
    "    for c in range(colunas):\n",
    "        b[dest][c] += fator * b[ori][c]\n",
    "    if y is not None:\n",
    "        y[dest] += fator * y[ori]\n",
    "    pass\n",
    "\n",
    "\n",
    "def _busca_pivo(linha: int, coluna: int, b: List[List[float]]):\n",
    "    maior = -inf\n",
    "    posicao = -1\n",
    "    for l in range(linha, len(b)):\n",
    "        valor = abs(b[l][coluna])\n",
    "        if valor > maior:\n",
    "            maior = valor\n",
    "            posicao = l\n",
    "    return posicao\n",
    "\n",
    "\n",
    "def _elimininacao_gauss(\n",
    "    linha: int, coluna: int, b: List[List[float]], y: Optional[List[float]] = None\n",
    "):\n",
    "    for l in range(linha + 1, len(b)):\n",
    "        fator = b[l][coluna] / b[linha][coluna]\n",
    "        _multiplicar_somar(-fator, linha, l, b, y)\n",
    "    pass\n",
    "\n",
    "\n",
    "def gauss(\n",
    "    b: List[List[float]], y: Optional[List[float]] = None\n",
    ") -> Tuple[List[List[float]], Optional[List[float]]]:\n",
    "    b, y = deepcopy(b), deepcopy(y)\n",
    "    l, c = 0, 0\n",
    "    m, n = len(b), len(b[0])\n",
    "    while l < m and c < n:\n",
    "        linha_pivo = _busca_pivo(l, c, b)\n",
    "        if linha_pivo != -1:\n",
    "            b[l], b[linha_pivo] = b[linha_pivo], b[l]\n",
    "            if y is not None:\n",
    "                y[l], y[linha_pivo] = y[linha_pivo], y[l]\n",
    "            _elimininacao_gauss(l, c, b, y)\n",
    "            l += 1\n",
    "            c += 1\n",
    "        else:\n",
    "            c += 1\n",
    "    return b, y\n"
   ]
  },
  {
   "cell_type": "markdown",
   "metadata": {},
   "source": [
    "## Tipo Solução"
   ]
  },
  {
   "cell_type": "code",
   "execution_count": 12,
   "metadata": {},
   "outputs": [],
   "source": [
    "class TipoSolucao(Enum):\n",
    "    NENHUMA = 0\n",
    "    UNICA = 1\n",
    "    MULTIPLAS = 2\n",
    "\n",
    "\n",
    "def tipo_solucao(b, y) -> TipoSolucao:\n",
    "    for i in range(len(b)):\n",
    "        if b[i][i] == 0.0:\n",
    "            if y[i] == 0.0:\n",
    "                return TipoSolucao.MULTIPLAS\n",
    "            else:\n",
    "                return TipoSolucao.NENHUMA\n",
    "    return TipoSolucao.UNICA\n"
   ]
  },
  {
   "cell_type": "markdown",
   "metadata": {},
   "source": [
    "## Substituição Retroativa"
   ]
  },
  {
   "cell_type": "code",
   "execution_count": 13,
   "metadata": {},
   "outputs": [],
   "source": [
    "def substituicao_retroativa(b: List[List[float]], y: List[float]) -> List[float]:\n",
    "    if tipo_solucao(b, y) != TipoSolucao.UNICA:\n",
    "        raise ValueError(\"a matriz dada não adimite solução unica\")\n",
    "    n = len(y)\n",
    "    x = [0.0] * n\n",
    "    for i in reversed(range(n)):\n",
    "        s = sum(b[i][j] * x[j] for j in range(i + 1, n))\n",
    "        x[i] = (y[i] - s) / b[i][i]\n",
    "    return x\n"
   ]
  },
  {
   "cell_type": "markdown",
   "metadata": {},
   "source": [
    "## Solucionar sistema"
   ]
  },
  {
   "cell_type": "code",
   "execution_count": 14,
   "metadata": {},
   "outputs": [],
   "source": [
    "def solucionar_linear(b: List[List[float]], y: List[float]):\n",
    "    b, y = gauss(b, y)  # type: ignore\n",
    "    x = substituicao_retroativa(b, y)\n",
    "    return x\n"
   ]
  },
  {
   "cell_type": "markdown",
   "metadata": {},
   "source": [
    "## Gauss-Seidel"
   ]
  },
  {
   "cell_type": "code",
   "execution_count": 15,
   "metadata": {},
   "outputs": [],
   "source": [
    "@dataclass\n",
    "class EstadoGauss:\n",
    "\n",
    "    i: int\n",
    "    x_ant: Optional[List[float]]\n",
    "    x: List[float]\n",
    "\n",
    "    def __init__(self, x: List[float]) -> None:\n",
    "        self.i = 1\n",
    "        self.x_ant = None\n",
    "        self.x = x\n"
   ]
  },
  {
   "cell_type": "code",
   "execution_count": 16,
   "metadata": {},
   "outputs": [],
   "source": [
    "def _passo_gauss_seidel(\n",
    "    b: List[List[float]],\n",
    "    y: List[float],\n",
    "    x: List[float],\n",
    ") -> List[float]:\n",
    "    n = len(x)\n",
    "    proximo_x = [0.0] * n\n",
    "    for i in range(n):\n",
    "        soma_esquerda = sum(b[i][j] * x[j] for j in range(i))\n",
    "        soma_direita = sum(b[i][j] * x[j] for j in range(i + 1, n))\n",
    "        proximo_x[i] = (y[i] - soma_esquerda - soma_direita) / b[i][i]\n",
    "    return proximo_x\n",
    "\n",
    "\n",
    "def gauss_seidel(\n",
    "    b: List[List[float]],\n",
    "    y: List[float],\n",
    "    x_inicial: List[float],\n",
    "    criterios: List[Callable[[EstadoGauss], bool]],\n",
    "    observador: Callable[[EstadoGauss], None] = lambda _: None,\n",
    "    max_iter=MAX_ITER_PADRAO,\n",
    ") -> EstadoGauss:\n",
    "    estado = EstadoGauss(deepcopy(x_inicial))\n",
    "    while not all(c(estado) for c in criterios) and estado.i < max_iter:\n",
    "        estado.i += 1\n",
    "        estado.x_ant = estado.x\n",
    "        estado.x = _passo_gauss_seidel(b, y, estado.x)\n",
    "    return estado\n"
   ]
  },
  {
   "cell_type": "markdown",
   "metadata": {},
   "source": [
    "## Gauss-Jacob"
   ]
  },
  {
   "cell_type": "code",
   "execution_count": 17,
   "metadata": {},
   "outputs": [],
   "source": [
    "def _passo_gauss_jacob(\n",
    "    b: List[List[float]],\n",
    "    y: List[float],\n",
    "    x: List[float],\n",
    ") -> List[float]:\n",
    "    n = len(x)\n",
    "    proximo_x = [0.0] * n\n",
    "    for i in range(n):\n",
    "        soma_esquerda = sum(b[i][j] * proximo_x[j] for j in range(i))\n",
    "        soma_direita = sum(b[i][j] * x[j] for j in range(i + 1, n))\n",
    "        proximo_x[i] = (y[i] - soma_esquerda - soma_direita) / b[i][i]\n",
    "    return proximo_x\n",
    "\n",
    "\n",
    "def gauss_jacob(\n",
    "    b: List[List[float]],\n",
    "    y: List[float],\n",
    "    x_inicial: List[float],\n",
    "    criterios: List[Callable[[EstadoGauss], bool]],\n",
    "    observador: Callable[[EstadoGauss], None] = lambda _: None,\n",
    "    max_iter=MAX_ITER_PADRAO,\n",
    ") -> EstadoGauss:\n",
    "    estado = EstadoGauss(deepcopy(x_inicial))\n",
    "    while not all(c(estado) for c in criterios) and estado.i < max_iter:\n",
    "        estado.i += 1\n",
    "        estado.x_ant = estado.x\n",
    "        estado.x = _passo_gauss_jacob(b, y, estado.x)\n",
    "    return estado\n"
   ]
  },
  {
   "cell_type": "markdown",
   "metadata": {},
   "source": [
    "# Interpolação"
   ]
  },
  {
   "cell_type": "markdown",
   "metadata": {},
   "source": [
    "## Polinômio de Lagrange"
   ]
  },
  {
   "cell_type": "code",
   "execution_count": 18,
   "metadata": {},
   "outputs": [],
   "source": [
    "from math import prod\n",
    "\n",
    "\n",
    "def _termo_lagrange(xs: List[float], ys: List[float], x: float, i: int) -> float:\n",
    "    n = len(xs)\n",
    "    produto_superior = prod(x - xs[j] for j in range(n) if j != i)\n",
    "    produto_inferior = prod(xs[i] - xs[j] for j in range(n) if j != i)\n",
    "    return (produto_superior / produto_inferior) * ys[i]\n",
    "\n",
    "\n",
    "def polinomio_lagrange(xs: List[float], ys: List[float]) -> Callable[[float], float]:\n",
    "    xs = deepcopy(xs)\n",
    "    ys = deepcopy(ys)\n",
    "    return lambda x: sum(_termo_lagrange(xs, ys, x, i) for i in range(len(xs)))\n"
   ]
  },
  {
   "cell_type": "markdown",
   "metadata": {},
   "source": [
    "## Polinômio de Newton"
   ]
  },
  {
   "cell_type": "code",
   "execution_count": 19,
   "metadata": {},
   "outputs": [],
   "source": [
    "def diferencas_divididas(xs: List[float], ys: List[float]) -> List[float]:\n",
    "    assert len(xs) == len(ys), \"xs e ys devem ter o mesmo comprimento\"\n",
    "    n = len(xs)\n",
    "    m = [[0.0] * (n - i) for i in range(n)]\n",
    "    for i in range(n):\n",
    "        m[i][0] = ys[i]\n",
    "    for j in range(1, n):\n",
    "        for i in range(n - j):\n",
    "            m[i][j] = (m[i + 1][j - 1] - m[i][j - 1]) / (xs[i + j] - xs[i])\n",
    "    return m[0]\n",
    "\n",
    "\n",
    "def _termo_newton(xs: List[float], dif_divs: List[float], x: float, i: int) -> float:\n",
    "    return dif_divs[i] * prod(x - xs[j] for j in range(i))\n",
    "\n",
    "\n",
    "def polinomio_newton(xs: List[float], ys: List[float]):\n",
    "    xs = deepcopy(xs)\n",
    "    dif_divs = diferencas_divididas(xs, ys)\n",
    "    return lambda x: sum(_termo_newton(xs, dif_divs, x, i) for i in range(len(xs)))\n"
   ]
  },
  {
   "cell_type": "markdown",
   "metadata": {},
   "source": [
    "## Spline quadrática"
   ]
  },
  {
   "cell_type": "code",
   "execution_count": 20,
   "metadata": {},
   "outputs": [],
   "source": [
    "_ESQUERDA = 0\n",
    "_DIREITA = 1\n",
    "\n",
    "\n",
    "def _polinomio(coefs: List[float]) -> Callable[[float], float]:\n",
    "    coefs = deepcopy(coefs)\n",
    "    return lambda x: sum(coefs[i] * x**i for i in range(len(coefs)))\n",
    "\n",
    "\n",
    "def _linha(x: float, grau: int = 0) -> List[float]:\n",
    "    match grau:\n",
    "        case 0:\n",
    "            return [1.0, x, x**2]\n",
    "        case 1:\n",
    "            return [0, 1.0, 2 * x]\n",
    "        case 2:\n",
    "            return [0.0, 0.0, 2.0]\n",
    "        case _:\n",
    "            raise ValueError(f\"valor de grau {grau} invalido\")\n",
    "\n",
    "\n",
    "def _valor_derivada(coefs: List[float], x: float) -> float:\n",
    "    return sum(i * x ** (i - 1) * coefs[i] for i in range(1, len(coefs)))\n",
    "\n",
    "\n",
    "def _segmento_spline(\n",
    "    xs: List[float],\n",
    "    ys: List[float],\n",
    "    derivada: float,\n",
    "    grau: int,\n",
    "    indice: int,\n",
    "    lado: int,\n",
    ") -> List[float]:\n",
    "    x = [\n",
    "        _linha(xs[indice]),\n",
    "        _linha(xs[indice + 1]),\n",
    "        _linha(xs[indice + lado], grau),\n",
    "    ]\n",
    "    y = [ys[indice], ys[indice + 1], derivada]\n",
    "    return solucionar_linear(x, y)\n",
    "\n",
    "\n",
    "def coeficientes_spline_quadratica(\n",
    "    xs: List[float],\n",
    "    ys: List[float],\n",
    "    derivada: float = DERIVADA_SPLINE_PADRAO,\n",
    "    grau: int = GRAU_SPLINE_PADRAO,\n",
    "    indice: int = INDICE_SPLINE_PADRAO,\n",
    ") -> List[List[float]]:\n",
    "    assert len(xs) == len(ys), \"xs e ys devem ter o mesmo comprimento\"\n",
    "    assert grau in [1, 2], \"grau inválido\"\n",
    "    assert 0 <= indice, \"indice não pode ser menor que 0\"\n",
    "    assert indice < len(xs), \"indice não pode ser menor que len(ys)\"\n",
    "    lista_coefs: List[List[float]] = [[]] * (len(xs) - 1)\n",
    "    # Resolve os coeficientes para as funções a esquerda\n",
    "    d = derivada\n",
    "    g = grau\n",
    "    for i in range(indice - 1, -1, -1):\n",
    "        coefs = _segmento_spline(xs, ys, d, g, i, _DIREITA)\n",
    "        lista_coefs[i] = coefs\n",
    "        d = _valor_derivada(coefs, xs[i])\n",
    "        g = 1\n",
    "    # Resolve os coeficientes para as funções a direita\n",
    "    if indice == 0:\n",
    "        d = derivada\n",
    "        g = grau\n",
    "    else:\n",
    "        d = _valor_derivada(lista_coefs[indice - 1], xs[indice])\n",
    "        g = 1\n",
    "    for i in range(indice, len(xs) - 1):\n",
    "        coefs = _segmento_spline(xs, ys, d, g, i, _ESQUERDA)\n",
    "        lista_coefs[i] = coefs\n",
    "        d = _valor_derivada(coefs, xs[i + 1])\n",
    "        g = 1\n",
    "    return lista_coefs\n",
    "\n",
    "\n",
    "def spline_quadratica(\n",
    "    xs: List[float],\n",
    "    ys: List[float],\n",
    "    derivada: float = DERIVADA_SPLINE_PADRAO,\n",
    "    grau: int = GRAU_SPLINE_PADRAO,\n",
    "    indice: int = INDICE_SPLINE_PADRAO,\n",
    ") -> Callable[[float], float]:\n",
    "    xs = deepcopy(xs)\n",
    "    lista_coefs = coeficientes_spline_quadratica(xs, ys, derivada, grau, indice)\n",
    "    fs = [_polinomio(coefs) for coefs in lista_coefs]\n",
    "\n",
    "    def interpolador(x):\n",
    "        for i in range(len(xs) - 1):\n",
    "            if x < xs[i + 1]:\n",
    "                return fs[i](x)\n",
    "        return fs[-1](x)\n",
    "\n",
    "    return interpolador\n"
   ]
  },
  {
   "cell_type": "markdown",
   "metadata": {},
   "source": [
    "# Ajuste de curvas"
   ]
  },
  {
   "cell_type": "markdown",
   "metadata": {},
   "source": [
    "## Minimos quadrados"
   ]
  },
  {
   "cell_type": "code",
   "execution_count": 21,
   "metadata": {},
   "outputs": [],
   "source": [
    "def _produto_escalar(a: List[float], b: List[float]):\n",
    "    return sum(i * j for i, j in zip(a, b))\n",
    "\n",
    "\n",
    "def coeficientes_minimos_quadrados(\n",
    "    xs: List[float],\n",
    "    ys: List[float],\n",
    "    fs: List[Callable[[float], float]],\n",
    ") -> List[float]:\n",
    "    assert len(xs) == len(ys), \"xs e ys devem ter o mesmo comprimento\"\n",
    "    n = len(fs)\n",
    "    gs = [[f(x) for x in xs] for f in fs]\n",
    "    b = [[_produto_escalar(gs[i], gs[j]) for i in range(n)] for j in range(n)]\n",
    "    y = [_produto_escalar(gs[i], ys) for i in range(n)]\n",
    "    return solucionar_linear(b, y)\n",
    "\n",
    "\n",
    "def minimos_quadrados(\n",
    "    xs: List[float],\n",
    "    ys: List[float],\n",
    "    fs: List[Callable[[float], float]],\n",
    "):\n",
    "    coefs = coeficientes_minimos_quadrados(xs, ys, fs)\n",
    "    return lambda x: sum(c * f(x) for c, f in zip(coefs, fs))\n",
    "\n",
    "\n",
    "def soma_quadrado_residuos(\n",
    "    xs: List[float],\n",
    "    ys: List[float],\n",
    "    f: Callable[[float], float],\n",
    ") -> float:\n",
    "    return sum((y - f(x)) ** 2 for x, y in zip(xs, ys))\n"
   ]
  },
  {
   "cell_type": "markdown",
   "metadata": {},
   "source": [
    "# Condições de parada"
   ]
  },
  {
   "cell_type": "code",
   "execution_count": 22,
   "metadata": {},
   "outputs": [],
   "source": [
    "def limite_iteracao(i: int) -> Callable[[Any], bool]:\n",
    "    return lambda est: est.i >= i\n",
    "\n",
    "\n",
    "def criterio_erro_absoluto(\n",
    "    ref: float,\n",
    "    erro_max: float,\n",
    ") -> Callable[[EstadoAB | EstadoX], bool]:\n",
    "    return lambda est: erro_absoluto(ref, est.x) < erro_max\n",
    "\n",
    "\n",
    "def criterio_ab(erro_max: float) -> Callable[[EstadoAB], bool]:\n",
    "    return lambda est: est.b - est.a < 2 * erro_max\n",
    "\n",
    "\n",
    "def criterio_x(erro_max: float) -> Callable[[EstadoAB | EstadoX], bool]:\n",
    "    return lambda est: est.f(est.x - erro_max) * est.f(est.x + erro_max) < 0\n",
    "\n",
    "\n",
    "def criterio_delta_x(delta: float) -> Callable[[EstadoAB | EstadoX], bool]:\n",
    "    return lambda est: est.x_ant is not None and abs(est.x - est.x_ant) < delta\n",
    "\n",
    "\n",
    "def criterio_y(dist_zero: float) -> Callable[[EstadoAB | EstadoX], bool]:\n",
    "    return lambda est: abs(est.y) < dist_zero\n",
    "\n",
    "\n",
    "def criterio_delta_x_vetor(delta: float) -> Callable[[EstadoGauss], bool]:\n",
    "    return lambda est: est.x_ant is not None and all(\n",
    "        (abs(i - j) < delta) for i, j in zip(est.x_ant, est.x)\n",
    "    )\n"
   ]
  },
  {
   "cell_type": "markdown",
   "metadata": {},
   "source": [
    "# Amostras"
   ]
  },
  {
   "cell_type": "code",
   "execution_count": 23,
   "metadata": {},
   "outputs": [],
   "source": [
    "def amostra_linear(x):\n",
    "    return 2 * x + 2\n",
    "\n",
    "\n",
    "def amostra_poli(x):\n",
    "    return x**2 + x - 6\n",
    "\n",
    "\n",
    "def amostra_poli_iter(x):\n",
    "    return sqrt(6 - x)\n",
    "\n",
    "\n",
    "amostra_b = [\n",
    "    [9.0, 2.0, 1.0],\n",
    "    [5.0, 7.0, 2.0],\n",
    "    [6.0, 2.0, 11.0],\n",
    "]\n",
    "\n",
    "amostra_y = [3.0, 3.0, 1.0]\n",
    "\n",
    "amostra_xs = [1.0, 4.0, 7.0, 8.0, 11.0]\n",
    "amostra_ys = [2.0, 5.0, 3.0, 4.0, 1.0]\n"
   ]
  },
  {
   "cell_type": "code",
   "execution_count": 24,
   "metadata": {},
   "outputs": [
    {
     "data": {
      "image/png": "[encoded data removed]",
      "text/plain": [
       "<Figure size 640x480 with 1 Axes>"
      ]
     },
     "metadata": {},
     "output_type": "display_data"
    }
   ],
   "source": [
    "x = np.linspace(-5, 5)\n",
    "y = np.vectorize(amostra_linear)(x)\n",
    "res = bissecao(amostra_linear, -3, 3, [criterio_ab(10**-4)])\n",
    "_ = plot.axhline(0, color=\"k\")\n",
    "_ = plot.plot(x, y)\n",
    "_ = plot.scatter([res.x], [res.y])\n"
   ]
  },
  {
   "cell_type": "code",
   "execution_count": 25,
   "metadata": {},
   "outputs": [
    {
     "data": {
      "image/png": "[encoded data removed]",
      "text/plain": [
       "<Figure size 640x480 with 1 Axes>"
      ]
     },
     "metadata": {},
     "output_type": "display_data"
    }
   ],
   "source": [
    "x = np.linspace(-8, 8)\n",
    "y = np.vectorize(amostra_poli)(x)\n",
    "res_1 = newton_raphson(amostra_poli, -2, [criterio_x(10**-4)])\n",
    "res_2 = newton_raphson(amostra_poli, 4, [criterio_x(10**-4)])\n",
    "_ = plot.axhline(color=\"k\")\n",
    "_ = plot.plot(x, y)\n",
    "_ = plot.scatter([res_1.x, res_2.x], [res_1.y, res_2.y])\n"
   ]
  },
  {
   "cell_type": "code",
   "execution_count": 26,
   "metadata": {},
   "outputs": [
    {
     "name": "stdout",
     "output_type": "stream",
     "text": [
      "[0.2894248608534323, 0.2541743970315399, -0.1131725417439703]\n"
     ]
    }
   ],
   "source": [
    "x = solucionar_linear(amostra_b, amostra_y)\n",
    "print(x)\n"
   ]
  },
  {
   "cell_type": "code",
   "execution_count": 27,
   "metadata": {},
   "outputs": [
    {
     "name": "stdout",
     "output_type": "stream",
     "text": [
      "[0.28944322078332885, 0.25420971804947057, -0.11314490853281187]\n"
     ]
    }
   ],
   "source": [
    "x_inicial = [1.0, 1.0, 1.0]\n",
    "res = gauss_seidel(amostra_b, amostra_y, x_inicial, [criterio_delta_x_vetor(10**-4)])\n",
    "print(res.x)\n"
   ]
  },
  {
   "cell_type": "code",
   "execution_count": 28,
   "metadata": {},
   "outputs": [
    {
     "data": {
      "image/png": "[encoded data removed]",
      "text/plain": [
       "<Figure size 640x480 with 1 Axes>"
      ]
     },
     "metadata": {},
     "output_type": "display_data"
    }
   ],
   "source": [
    "x = np.linspace(1, 11)\n",
    "f = polinomio_lagrange(amostra_xs, amostra_ys)\n",
    "y = np.vectorize(f)(x)\n",
    "_ = plot.scatter(amostra_xs, amostra_ys)\n",
    "_ = plot.plot(x, y)\n"
   ]
  },
  {
   "cell_type": "code",
   "execution_count": 29,
   "metadata": {},
   "outputs": [
    {
     "data": {
      "image/png": "[encoded data removed]",
      "text/plain": [
       "<Figure size 640x480 with 1 Axes>"
      ]
     },
     "metadata": {},
     "output_type": "display_data"
    }
   ],
   "source": [
    "x = np.linspace(1, 11)\n",
    "f = polinomio_newton(amostra_xs, amostra_ys)\n",
    "y = np.vectorize(f)(x)\n",
    "_ = plot.scatter(amostra_xs, amostra_ys)\n",
    "_ = plot.plot(x, y)\n"
   ]
  },
  {
   "cell_type": "code",
   "execution_count": 30,
   "metadata": {},
   "outputs": [
    {
     "data": {
      "image/png": "[encoded data removed]",
      "text/plain": [
       "<Figure size 640x480 with 1 Axes>"
      ]
     },
     "metadata": {},
     "output_type": "display_data"
    }
   ],
   "source": [
    "x = np.linspace(1, 11)\n",
    "f = spline_quadratica(amostra_xs, amostra_ys, indice=1)\n",
    "y = np.vectorize(f)(x)\n",
    "_ = plot.scatter(amostra_xs, amostra_ys)\n",
    "_ = plot.plot(x, y)\n"
   ]
  },
  {
   "cell_type": "code",
   "execution_count": 31,
   "metadata": {},
   "outputs": [
    {
     "name": "stdout",
     "output_type": "stream",
     "text": [
      "erro: 2.1000837520937994\n"
     ]
    },
    {
     "data": {
      "image/png": "[encoded data removed]",
      "text/plain": [
       "<Figure size 640x480 with 1 Axes>"
      ]
     },
     "metadata": {},
     "output_type": "display_data"
    }
   ],
   "source": [
    "fs = [lambda x: 1, lambda x: x, lambda x: x**2]\n",
    "f = minimos_quadrados(amostra_xs, amostra_ys, fs)\n",
    "x = np.linspace(0, 12)\n",
    "y = np.vectorize(f)(x)\n",
    "_ = plot.scatter(amostra_xs, amostra_ys)\n",
    "_ = plot.plot(x, y)\n",
    "erro = soma_quadrado_residuos(amostra_xs, amostra_ys, f)\n",
    "print(f\"erro: {erro}\")\n"
   ]
  },
  {
   "cell_type": "markdown",
   "metadata": {},
   "source": [
    "# Playground "
   ]
  },
  {
   "cell_type": "markdown",
   "metadata": {},
   "source": [
    "### Questão 1"
   ]
  },
  {
   "cell_type": "code",
   "execution_count": 32,
   "metadata": {},
   "outputs": [],
   "source": [
    "xs = [-2.0, -1.0, 1.0, 2.0]\n",
    "ys = [5.0, 0.0, -1.0, 5.0]\n"
   ]
  },
  {
   "cell_type": "markdown",
   "metadata": {},
   "source": [
    "#### a)"
   ]
  },
  {
   "cell_type": "code",
   "execution_count": 33,
   "metadata": {},
   "outputs": [
    {
     "name": "stdout",
     "output_type": "stream",
     "text": [
      "coefs newton: [5.0, -5.0, 1.5, 0.16666666666666663]\n"
     ]
    }
   ],
   "source": [
    "coefs = diferencas_divididas(xs, ys)\n",
    "print(\"coefs newton:\", coefs)\n"
   ]
  },
  {
   "cell_type": "markdown",
   "metadata": {},
   "source": [
    "#### b)"
   ]
  },
  {
   "cell_type": "code",
   "execution_count": 34,
   "metadata": {},
   "outputs": [
    {
     "name": "stdout",
     "output_type": "stream",
     "text": [
      "coefs spline quadratica: [[-5.0, -5.0, -0.0], [-2.75, -0.5, 2.25], [-3.0, 0.0, 2.0]]\n"
     ]
    }
   ],
   "source": [
    "coefs = coeficientes_spline_quadratica(xs, ys, derivada=-5, indice=0, grau=1)\n",
    "print(\"coefs spline quadratica:\", coefs)\n"
   ]
  },
  {
   "cell_type": "markdown",
   "metadata": {},
   "source": [
    "#### c)"
   ]
  },
  {
   "cell_type": "code",
   "execution_count": null,
   "metadata": {},
   "outputs": [],
   "source": []
  },
  {
   "cell_type": "markdown",
   "metadata": {},
   "source": [
    "### Questão 2"
   ]
  },
  {
   "cell_type": "code",
   "execution_count": 35,
   "metadata": {},
   "outputs": [],
   "source": [
    "xs = [-0.9, -0.6, -0.3, 0.0, 0.3, 0.6, 0.9]\n",
    "ys = [0.64, 1.06, 1.57, 1.91, 1.61, 1.07, 0.64]\n"
   ]
  },
  {
   "cell_type": "code",
   "execution_count": 36,
   "metadata": {},
   "outputs": [
    {
     "name": "stdout",
     "output_type": "stream",
     "text": [
      "coefs 1 linear: [1.2905525263966768, 0.5046291708790691]\n",
      "coefs 1: [0.7748619134411195, 0.3910179249255612]\n"
     ]
    }
   ],
   "source": [
    "zs_1 = [1 / y for y in ys]\n",
    "fs_1 = [lambda x: x**2, lambda _: 1]\n",
    "c_1, c_2 = coeficientes_minimos_quadrados(xs, zs_1, fs_1)\n",
    "print(\"coefs 1 linear:\", [c_1, c_2])\n",
    "a = 1 / c_1\n",
    "b = c_2 * a\n",
    "print(\"coefs 1:\", [a, b])\n"
   ]
  },
  {
   "cell_type": "code",
   "execution_count": 37,
   "metadata": {},
   "outputs": [
    {
     "name": "stdout",
     "output_type": "stream",
     "text": [
      "erro phi_1: 0.00912083493577429\n"
     ]
    }
   ],
   "source": [
    "f_1 = lambda x: a / (x**2 + b)\n",
    "erro_1 = soma_quadrado_residuos(xs, ys, f_1)\n",
    "print(\"erro phi_1:\", erro_1)\n"
   ]
  },
  {
   "cell_type": "code",
   "execution_count": 38,
   "metadata": {},
   "outputs": [
    {
     "name": "stdout",
     "output_type": "stream",
     "text": [
      "coefs 2 linear: [0.5836434554693499, -1.3006896017973695]\n",
      "coefs 2: [0.5836434554693499, -1.3006896017973695]\n"
     ]
    }
   ],
   "source": [
    "from math import log, exp\n",
    "\n",
    "zs_2 = [log(y) for y in ys]\n",
    "fs_2 = [lambda _: 1, lambda x: x**2]\n",
    "c_1, c_2 = coeficientes_minimos_quadrados(xs, zs_2, fs_2)\n",
    "print(\"coefs 2 linear:\", [c_1, c_2])\n",
    "a = c_1\n",
    "b = c_2\n",
    "print(\"coefs 2:\", [a, b])\n"
   ]
  },
  {
   "cell_type": "code",
   "execution_count": 39,
   "metadata": {},
   "outputs": [
    {
     "name": "stdout",
     "output_type": "stream",
     "text": [
      "erro phi_2: 0.021700953869857313\n"
     ]
    }
   ],
   "source": [
    "f_2 = lambda x: exp(a + b * x**2)\n",
    "erro_2 = soma_quadrado_residuos(xs, ys, f_2)\n",
    "print(\"erro phi_2:\", erro_2)\n"
   ]
  }
 ],
 "metadata": {
  "kernelspec": {
   "display_name": "Python 3.10.6 ('venv': venv)",
   "language": "python",
   "name": "python3"
  },
  "language_info": {
   "codemirror_mode": {
    "name": "ipython",
    "version": 3
   },
   "file_extension": ".py",
   "mimetype": "text/x-python",
   "name": "python",
   "nbconvert_exporter": "python",
   "pygments_lexer": "ipython3",
   "version": "3.10.6"
  },
  "orig_nbformat": 4,
  "vscode": {
   "interpreter": {
    "hash": "6c59314b1a04a8e423bb438665592d3397925ef63c72d8c0a9af84e1df1e8d47"
   }
  }
 },
 "nbformat": 4,
 "nbformat_minor": 2
}
