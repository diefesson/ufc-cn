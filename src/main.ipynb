{
 "cells": [
  {
   "cell_type": "code",
   "execution_count": null,
   "metadata": {},
   "outputs": [],
   "source": [
    "from typing import Callable, List\n",
    "from math import sqrt\n",
    "import math\n"
   ]
  },
  {
   "cell_type": "markdown",
   "metadata": {},
   "source": [
    "# Funções básicas"
   ]
  },
  {
   "cell_type": "markdown",
   "metadata": {},
   "source": [
    "## Calculo do erro"
   ]
  },
  {
   "cell_type": "code",
   "execution_count": null,
   "metadata": {},
   "outputs": [],
   "source": [
    "def erro_absoluto(referencia: float, estimativa: float) -> float:\n",
    "    return abs(referencia - estimativa)\n",
    "\n",
    "\n",
    "def erro_relativo(referencia: float, estimativa: float) -> float:\n",
    "    return abs((referencia, estimativa) / estimativa)\n"
   ]
  },
  {
   "cell_type": "markdown",
   "metadata": {},
   "source": [
    "# Derivação numerica"
   ]
  },
  {
   "cell_type": "code",
   "execution_count": null,
   "metadata": {},
   "outputs": [],
   "source": [
    "DELTA_DERIVACAO_PADRAO = 10**-4\n",
    "\n",
    "\n",
    "def derivada_direita(f: Callable[[float], float], delta=DELTA_DERIVACAO_PADRAO):\n",
    "    return lambda x: (f(x + delta) - f(x)) / delta\n",
    "\n",
    "\n",
    "def derivada_esquerda(f: Callable[[float], float], delta=DELTA_DERIVACAO_PADRAO):\n",
    "    return lambda x: (f(x - delta) - f(x)) / delta\n",
    "\n",
    "\n",
    "def derivada_central(f: Callable[[float], float], delta=DELTA_DERIVACAO_PADRAO):\n",
    "    return lambda x: (f(x + delta) - f(x - delta)) / (2 * delta)\n"
   ]
  },
  {
   "cell_type": "markdown",
   "metadata": {},
   "source": [
    "# Métodos iterativos"
   ]
  },
  {
   "cell_type": "markdown",
   "metadata": {},
   "source": [
    "## Condições de parada"
   ]
  },
  {
   "cell_type": "code",
   "execution_count": null,
   "metadata": {},
   "outputs": [],
   "source": [
    "MAX_ITER_PADRAO = 100\n",
    "\n",
    "\n",
    "def limite_iteracao(i: int):\n",
    "    return lambda est: est.i >= i\n",
    "\n",
    "\n",
    "def criterio_erro_absoluto(referencia: float, erro_max: float):\n",
    "    return lambda est: erro_absoluto(referencia, est.x) < erro_max\n",
    "\n",
    "\n",
    "def criterio_ab(erro_max: float):\n",
    "    return lambda est: est.b - est.a < 2 * erro_max\n",
    "\n",
    "\n",
    "def criterio_x(erro_max: float):\n",
    "    return lambda est: est.f(est.x - erro_max) * est.f(est.x + erro_max) < 0\n",
    "\n",
    "\n",
    "def criterio_delta_x(delta: float):\n",
    "    return lambda est: est.prior_x is not None and abs(est.x - est.prior_x) < delta\n",
    "\n",
    "\n",
    "def criterio_y(dist_zero: float):\n",
    "    return lambda est: abs(est.y) < dist_zero\n"
   ]
  },
  {
   "cell_type": "markdown",
   "metadata": {},
   "source": [
    "## Método da bisseçao"
   ]
  },
  {
   "cell_type": "code",
   "execution_count": null,
   "metadata": {},
   "outputs": [],
   "source": [
    "class EstatisticaAB:\n",
    "    def __init__(\n",
    "        self, f: Callable[[float], float], a: float, b: float, x: float, y: float\n",
    "    ) -> None:\n",
    "        self.f = f\n",
    "        self.i: int = 1\n",
    "        self.a = a\n",
    "        self.b = b\n",
    "        self.prior_x = None\n",
    "        self.x = x\n",
    "        self.y = y\n",
    "\n",
    "    def atualizar(self, a: float, b: float, x: float, y: float):\n",
    "        self.i += 1\n",
    "        self.a = a\n",
    "        self.b = b\n",
    "        self.prior_x = x\n",
    "        self.x = x\n",
    "        self.y = y\n",
    "\n",
    "    def __str__(self) -> str:\n",
    "        return f\"iteracao: {self.i}, a: {self.a}, b: {self.b}, x: {self.x}, y: {self.y}\"\n"
   ]
  },
  {
   "cell_type": "code",
   "execution_count": null,
   "metadata": {},
   "outputs": [],
   "source": [
    "def bissecao(\n",
    "    f: Callable[[float], float],\n",
    "    a: float,\n",
    "    b: float,\n",
    "    criterios: list[Callable[[EstatisticaAB], bool]],\n",
    "    observador: Callable[[EstatisticaAB], any] = lambda _: None,\n",
    "    max_iter=MAX_ITER_PADRAO,\n",
    "):\n",
    "    if a > b:\n",
    "        a, b = b, a\n",
    "    i = 1\n",
    "    x = (a + b) / 2\n",
    "    y = f(x)\n",
    "    est = EstatisticaAB(f, a, b, x, y)\n",
    "    observador(est)\n",
    "    while not all(map(lambda c: c(est), criterios)) and est.i < max_iter:\n",
    "        i += 1\n",
    "        if f(a) * y < 0:\n",
    "            b = x\n",
    "        else:\n",
    "            a = x\n",
    "        x = (a + b) / 2\n",
    "        y = f(x)\n",
    "        est_erro = (b - a) / 2\n",
    "        est.atualizar(a, b, x, y)\n",
    "        observador(est)\n",
    "    return est\n"
   ]
  },
  {
   "cell_type": "markdown",
   "metadata": {},
   "source": [
    "## Método da falsa posição"
   ]
  },
  {
   "cell_type": "code",
   "execution_count": null,
   "metadata": {},
   "outputs": [],
   "source": [
    "def falsa_posicao(\n",
    "    f: Callable[[float], float],\n",
    "    a: float,\n",
    "    b: float,\n",
    "    criterios: list[Callable[[EstatisticaAB], bool]],\n",
    "    observador: Callable[[EstatisticaAB], any] = lambda _: None,\n",
    "    max_iter=MAX_ITER_PADRAO,\n",
    "):\n",
    "    if a > b:\n",
    "        a, b = b, a\n",
    "    i = 1\n",
    "    x = (a * f(b) - b * f(a)) / (f(b) - f(a))\n",
    "    y = f(x)\n",
    "    est = EstatisticaAB(f, a, b, x, y)\n",
    "    observador(est)\n",
    "    while not all(map(lambda c: c(est), criterios)) and est.i < max_iter:\n",
    "        i += 1\n",
    "        if f(a) * y < 0:\n",
    "            b = x\n",
    "        else:\n",
    "            a = x\n",
    "        x = (a * f(b) - b * f(a)) / (f(b) - f(a))\n",
    "        y = f(x)\n",
    "        est_erro = (b - a) / 2\n",
    "        est.atualizar(a, b, x, y)\n",
    "        observador(est)\n",
    "    return est\n"
   ]
  },
  {
   "cell_type": "markdown",
   "metadata": {},
   "source": [
    "## Método do ponto fixo"
   ]
  },
  {
   "cell_type": "code",
   "execution_count": null,
   "metadata": {},
   "outputs": [],
   "source": [
    "class EstatisticaX:\n",
    "    def __init__(\n",
    "        self,\n",
    "        f: Callable[[float], float],\n",
    "        fi: Callable[[float], float],\n",
    "        x: float,\n",
    "        y: float,\n",
    "    ) -> None:\n",
    "        self.i: int = 1\n",
    "        self.f = f\n",
    "        self.fi = fi\n",
    "        self.prior_x = None\n",
    "        self.x = x\n",
    "        self.y = y\n",
    "\n",
    "    def atualizar(self, x: float, y: float):\n",
    "        self.i += 1\n",
    "        self.prior_x = x\n",
    "        self.x = x\n",
    "        self.y = y\n",
    "\n",
    "    def __str__(self) -> str:\n",
    "        return f\"iteracao: {self.i}, x: {self.x}, y:{self.y}\"\n"
   ]
  },
  {
   "cell_type": "code",
   "execution_count": null,
   "metadata": {},
   "outputs": [],
   "source": [
    "def ponto_fixo(\n",
    "    f: Callable[[float], float],\n",
    "    fi: Callable[[float], float],\n",
    "    x: float,\n",
    "    criterios: list[Callable[[EstatisticaX], bool]],\n",
    "    observador: Callable[[EstatisticaX], any] = lambda _: None,\n",
    "    max_iter=MAX_ITER_PADRAO,\n",
    "):\n",
    "    i = 1\n",
    "    y = f(x)\n",
    "    est = EstatisticaX(f, fi, x, y)\n",
    "    observador(est)\n",
    "    while not all(map(lambda c: c(est), criterios)) and est.i < max_iter:\n",
    "        i += 1\n",
    "        x = fi(x)\n",
    "        y = f(x)\n",
    "        est.atualizar(x, y)\n",
    "        observador(est)\n",
    "    return est\n"
   ]
  },
  {
   "cell_type": "markdown",
   "metadata": {},
   "source": [
    "## Método de Newtown-Raphson"
   ]
  },
  {
   "cell_type": "code",
   "execution_count": null,
   "metadata": {},
   "outputs": [],
   "source": [
    "def newton_raphson(\n",
    "    f: Callable[[float], float],\n",
    "    x: float,\n",
    "    criterios: List[Callable[[EstatisticaX], bool]],\n",
    "    observador: Callable[[EstatisticaX], any] = lambda x: None,\n",
    "    max_iter=MAX_ITER_PADRAO,\n",
    "):\n",
    "    d = derivada_central(f)\n",
    "    fi = lambda x: x - f(x) / d(x)\n",
    "    return ponto_fixo(f, fi, x, criterios, observador, max_iter)\n"
   ]
  },
  {
   "cell_type": "markdown",
   "metadata": {},
   "source": [
    "# Método de Gauss-Seidel"
   ]
  },
  {
   "cell_type": "code",
   "execution_count": 5,
   "metadata": {},
   "outputs": [
    {
     "name": "stdout",
     "output_type": "stream",
     "text": [
      "iteração 0\n",
      "x = [0.0, 2, 1, 1, 2]\n"
     ]
    },
    {
     "ename": "IndexError",
     "evalue": "list index out of range",
     "output_type": "error",
     "traceback": [
      "\u001b[1;31m---------------------------------------------------------------------------\u001b[0m",
      "\u001b[1;31mIndexError\u001b[0m                                Traceback (most recent call last)",
      "Cell \u001b[1;32mIn [5], line 56\u001b[0m\n\u001b[0;32m     48\u001b[0m a \u001b[38;5;241m=\u001b[39m [[\u001b[38;5;241m9\u001b[39m, \u001b[38;5;241m-\u001b[39m\u001b[38;5;241m2\u001b[39m, \u001b[38;5;241m1\u001b[39m, \u001b[38;5;241m3\u001b[39m, \u001b[38;5;241m1\u001b[39m],\n\u001b[0;32m     49\u001b[0m      [\u001b[38;5;241m1\u001b[39m, \u001b[38;5;241m-\u001b[39m\u001b[38;5;241m1\u001b[39m, \u001b[38;5;241m2\u001b[39m, \u001b[38;5;241m6\u001b[39m, \u001b[38;5;241m5\u001b[39m],\n\u001b[0;32m     50\u001b[0m      [\u001b[38;5;241m2\u001b[39m, \u001b[38;5;241m-\u001b[39m\u001b[38;5;241m3\u001b[39m, \u001b[38;5;241m7\u001b[39m, \u001b[38;5;241m1\u001b[39m, \u001b[38;5;241m0\u001b[39m],\n\u001b[0;32m     51\u001b[0m      [\u001b[38;5;241m1\u001b[39m, \u001b[38;5;241m6\u001b[39m, \u001b[38;5;241m-\u001b[39m\u001b[38;5;241m1\u001b[39m, \u001b[38;5;241m4\u001b[39m, \u001b[38;5;241m2\u001b[39m],\n\u001b[0;32m     52\u001b[0m      [\u001b[38;5;241m1\u001b[39m, \u001b[38;5;241m-\u001b[39m\u001b[38;5;241m2\u001b[39m, \u001b[38;5;241m2\u001b[39m, \u001b[38;5;241m1\u001b[39m, \u001b[38;5;241m8\u001b[39m]]\n\u001b[0;32m     54\u001b[0m b \u001b[38;5;241m=\u001b[39m [\u001b[38;5;241m0\u001b[39m, \u001b[38;5;241m2\u001b[39m, \u001b[38;5;241m1\u001b[39m, \u001b[38;5;241m1\u001b[39m, \u001b[38;5;241m2\u001b[39m]\n\u001b[1;32m---> 56\u001b[0m x \u001b[38;5;241m=\u001b[39m gaussSeidel(a, b, \u001b[38;5;241m10\u001b[39m, \u001b[38;5;241m0.0001\u001b[39m)\n",
      "Cell \u001b[1;32mIn [5], line 39\u001b[0m, in \u001b[0;36mgaussSeidel\u001b[1;34m(a, b, maxIter, precisao)\u001b[0m\n\u001b[0;32m     37\u001b[0m \u001b[38;5;28;01mfor\u001b[39;00m j \u001b[38;5;129;01min\u001b[39;00m \u001b[38;5;28mlist\u001b[39m(\u001b[38;5;28mrange\u001b[39m(\u001b[38;5;241m1\u001b[39m, n\u001b[38;5;241m+\u001b[39m\u001b[38;5;241m1\u001b[39m, \u001b[38;5;241m1\u001b[39m)):\n\u001b[0;32m     38\u001b[0m     \u001b[38;5;28;01mif\u001b[39;00m((i\u001b[38;5;241m-\u001b[39m\u001b[38;5;241m1\u001b[39m) \u001b[38;5;241m>\u001b[39m (j\u001b[38;5;241m-\u001b[39m\u001b[38;5;241m1\u001b[39m)):\n\u001b[1;32m---> 39\u001b[0m         s \u001b[38;5;241m=\u001b[39m s \u001b[38;5;241m+\u001b[39m \u001b[43ma\u001b[49m\u001b[43m[\u001b[49m\u001b[43mi\u001b[49m\u001b[38;5;241;43m-\u001b[39;49m\u001b[38;5;241;43m1\u001b[39;49m\u001b[43m]\u001b[49m[j\u001b[38;5;241m-\u001b[39m\u001b[38;5;241m1\u001b[39m] \u001b[38;5;241m*\u001b[39m xk[j\u001b[38;5;241m-\u001b[39m\u001b[38;5;241m1\u001b[39m]\n\u001b[0;32m     40\u001b[0m     \u001b[38;5;28;01melif\u001b[39;00m ((i\u001b[38;5;241m-\u001b[39m\u001b[38;5;241m1\u001b[39m) \u001b[38;5;241m<\u001b[39m (j\u001b[38;5;241m-\u001b[39m\u001b[38;5;241m1\u001b[39m)):\n\u001b[0;32m     41\u001b[0m         s \u001b[38;5;241m=\u001b[39m s \u001b[38;5;241m+\u001b[39m a[i\u001b[38;5;241m-\u001b[39m\u001b[38;5;241m1\u001b[39m][j\u001b[38;5;241m-\u001b[39m\u001b[38;5;241m1\u001b[39m] \u001b[38;5;241m*\u001b[39m x[j\u001b[38;5;241m-\u001b[39m\u001b[38;5;241m1\u001b[39m]\n",
      "\u001b[1;31mIndexError\u001b[0m: list index out of range"
     ]
    }
   ],
   "source": [
    "def compara(x,xk,precisao):\n",
    "    soma = 0\n",
    "    zip_object = zip(x, xk)\n",
    "    for list1_i, list2_i in zip_object:\n",
    "        soma = soma + math.fabs(list1_i - list2_i)\n",
    "\n",
    "    if (soma < precisao):\n",
    "        return True\n",
    "    else:\n",
    "        return False\n",
    "\n",
    "\n",
    "\n",
    "def gaussSeidel(a, b, maxIter, precisao):\n",
    "    n= len(b)\n",
    "    solucao = True\n",
    "    x = b.copy()\n",
    "    for i in list(range(1, n+1, 1)):\n",
    "        if((a[i-1] [i-1]) > 0.0):\n",
    "            x[i-1] = b[i-1]/a[i-1][i-1]\n",
    "        else:\n",
    "            solucao = False\n",
    "            break\n",
    "\n",
    "        if(solucao):\n",
    "            print(\"iteração 0\")\n",
    "            print(\"x =\", x)\n",
    "            xk = x.copy()\n",
    "           # maxIter = 10\n",
    "           # precisao = 0.01\n",
    "            iter = 0\n",
    "\n",
    "            while(iter < maxIter):\n",
    "                iter = iter + 1\n",
    "                for i in list(range(1, n+11, 1)):\n",
    "                    s = 0\n",
    "                    for j in list(range(1, n+1, 1)):\n",
    "                        if((i-1) > (j-1)):\n",
    "                            s = s + a[i-1][j-1] * xk[j-1]\n",
    "                        elif ((i-1) < (j-1)):\n",
    "                            s = s + a[i-1][j-1] * x[j-1]\n",
    "                             \n",
    "                    xk[i-1] = (1/a[i-1][i-1]) * (b[i-1] - s)\n",
    "\n",
    "        return x\n",
    "\n",
    "\n",
    "a = [[9, -2, 1, 3, 1],\n",
    "     [1, -1, 2, 6, 5],\n",
    "     [2, -3, 7, 1, 0],\n",
    "     [1, 6, -1, 4, 2],\n",
    "     [1, -2, 2, 1, 8]]\n",
    "\n",
    "b = [0, 2, 1, 1, 2]\n",
    "\n",
    "x = gaussSeidel(a, b, 10, 0.0001)"
   ]
  },
  {
   "cell_type": "markdown",
   "metadata": {},
   "source": [
    "# Amostras"
   ]
  },
  {
   "cell_type": "code",
   "execution_count": null,
   "metadata": {},
   "outputs": [],
   "source": [
    "def amostra_linear(x):\n",
    "    return 5 * x + 2\n",
    "\n",
    "\n",
    "def amostra_poli(x):\n",
    "    return x**2 + x - 6\n",
    "\n",
    "\n",
    "def amostra_poli_iter(x):\n",
    "    return sqrt(6 - x)\n"
   ]
  },
  {
   "cell_type": "markdown",
   "metadata": {},
   "source": [
    "# Playground "
   ]
  },
  {
   "cell_type": "code",
   "execution_count": null,
   "metadata": {},
   "outputs": [],
   "source": [
    "resultado = ponto_fixo(\n",
    "    amostra_poli, derivada_central(amostra_poli), 5, [criterio_x(0.003)], print\n",
    ")\n"
   ]
  },
  {
   "cell_type": "code",
   "execution_count": null,
   "metadata": {},
   "outputs": [],
   "source": [
    "somatorio = i*2\n",
    "\n",
    "for i in range(n)"
   ]
  }
 ],
 "metadata": {
  "kernelspec": {
   "display_name": "Python 3.10.7 ('venv': venv)",
   "language": "python",
   "name": "python3"
  },
  "language_info": {
   "codemirror_mode": {
    "name": "ipython",
    "version": 3
   },
   "file_extension": ".py",
   "mimetype": "text/x-python",
   "name": "python",
   "nbconvert_exporter": "python",
   "pygments_lexer": "ipython3",
   "version": "3.10.7"
  },
  "orig_nbformat": 4,
  "vscode": {
   "interpreter": {
    "hash": "f31bf232b416fe56c3917ab0398df690ebd8b51af22308b67098dc3a1a83f58c"
   }
  }
 },
 "nbformat": 4,
 "nbformat_minor": 2
}
