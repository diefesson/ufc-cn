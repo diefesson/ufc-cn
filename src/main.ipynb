{
 "cells": [
  {
   "cell_type": "code",
   "execution_count": null,
   "metadata": {},
   "outputs": [],
   "source": [
    "from typing import Callable, List, Tuple, Optional\n",
    "from math import sqrt, inf\n",
    "from enum import Enum\n",
    "from copy import deepcopy\n",
    "from dataclasses import dataclass"
   ]
  },
  {
   "cell_type": "markdown",
   "metadata": {},
   "source": [
    "# Derivação numerica"
   ]
  },
  {
   "cell_type": "code",
   "execution_count": null,
   "metadata": {},
   "outputs": [],
   "source": [
    "DELTA_DERIVACAO_PADRAO = 10**-4\n",
    "\n",
    "\n",
    "def derivada_direita(f: Callable[[float], float], delta=DELTA_DERIVACAO_PADRAO):\n",
    "    return lambda x: (f(x + delta) - f(x)) / delta\n",
    "\n",
    "\n",
    "def derivada_esquerda(f: Callable[[float], float], delta=DELTA_DERIVACAO_PADRAO):\n",
    "    return lambda x: (f(x - delta) - f(x)) / delta\n",
    "\n",
    "\n",
    "def derivada_central(f: Callable[[float], float], delta=DELTA_DERIVACAO_PADRAO):\n",
    "    return lambda x: (f(x + delta) - f(x - delta)) / (2 * delta)\n"
   ]
  },
  {
   "cell_type": "markdown",
   "metadata": {},
   "source": [
    "# Métodos iterativos"
   ]
  },
  {
   "cell_type": "markdown",
   "metadata": {},
   "source": [
    "## Calculo do erro"
   ]
  },
  {
   "cell_type": "code",
   "execution_count": null,
   "metadata": {},
   "outputs": [],
   "source": [
    "def erro_absoluto(referencia: float, estimativa: float) -> float:\n",
    "    return abs(referencia - estimativa)\n",
    "\n",
    "\n",
    "def erro_relativo(referencia: float, estimativa: float) -> float:\n",
    "    return abs((referencia - estimativa) / estimativa)\n"
   ]
  },
  {
   "cell_type": "markdown",
   "metadata": {},
   "source": [
    "## Condições de parada"
   ]
  },
  {
   "cell_type": "code",
   "execution_count": null,
   "metadata": {},
   "outputs": [],
   "source": [
    "MAX_ITER_PADRAO = 100\n",
    "\n",
    "\n",
    "def limite_iteracao(i: int):\n",
    "    return lambda est: est.i >= i\n",
    "\n",
    "\n",
    "def criterio_erro_absoluto(referencia: float, erro_max: float):\n",
    "    return lambda est: erro_absoluto(referencia, est.x) < erro_max\n",
    "\n",
    "\n",
    "def criterio_ab(erro_max: float):\n",
    "    return lambda est: est.b - est.a < 2 * erro_max\n",
    "\n",
    "\n",
    "def criterio_x(erro_max: float):\n",
    "    return lambda est: est.f(est.x - erro_max) * est.f(est.x + erro_max) < 0\n",
    "\n",
    "\n",
    "def criterio_delta_x(delta: float):\n",
    "    return lambda est: est.prior_x is not None and abs(est.x - est.prior_x) < delta\n",
    "\n",
    "\n",
    "def criterio_y(dist_zero: float):\n",
    "    return lambda est: abs(est.y) < dist_zero\n"
   ]
  },
  {
   "cell_type": "markdown",
   "metadata": {},
   "source": [
    "## Método da bisseçao"
   ]
  },
  {
   "cell_type": "code",
   "execution_count": null,
   "metadata": {},
   "outputs": [],
   "source": [
    "class EstatisticaAB:\n",
    "    def __init__(\n",
    "        self, f: Callable[[float], float], a: float, b: float, x: float, y: float\n",
    "    ) -> None:\n",
    "        self.f = f\n",
    "        self.i: int = 1\n",
    "        self.a = a\n",
    "        self.b = b\n",
    "        self.prior_x = None\n",
    "        self.x = x\n",
    "        self.y = y\n",
    "\n",
    "    def atualizar(self, a: float, b: float, x: float, y: float):\n",
    "        self.i += 1\n",
    "        self.a = a\n",
    "        self.b = b\n",
    "        self.prior_x = x\n",
    "        self.x = x\n",
    "        self.y = y\n",
    "\n",
    "    def __str__(self) -> str:\n",
    "        return f\"iteracao: {self.i}, a: {self.a}, b: {self.b}, x: {self.x}, y: {self.y}\"\n"
   ]
  },
  {
   "cell_type": "code",
   "execution_count": null,
   "metadata": {},
   "outputs": [],
   "source": [
    "def bissecao(\n",
    "    f: Callable[[float], float],\n",
    "    a: float,\n",
    "    b: float,\n",
    "    criterios: list[Callable[[EstatisticaAB], bool]],\n",
    "    observador: Callable[[EstatisticaAB], None] = lambda _: None,\n",
    "    max_iter=MAX_ITER_PADRAO,\n",
    "):\n",
    "    if a > b:\n",
    "        a, b = b, a\n",
    "    i = 1\n",
    "    x = (a + b) / 2\n",
    "    y = f(x)\n",
    "    est = EstatisticaAB(f, a, b, x, y)\n",
    "    observador(est)\n",
    "    while not all(map(lambda c: c(est), criterios)) and est.i < max_iter:\n",
    "        i += 1\n",
    "        if f(a) * y < 0:\n",
    "            b = x\n",
    "        else:\n",
    "            a = x\n",
    "        x = (a + b) / 2\n",
    "        y = f(x)\n",
    "        est_erro = (b - a) / 2\n",
    "        est.atualizar(a, b, x, y)\n",
    "        observador(est)\n",
    "    return est\n"
   ]
  },
  {
   "cell_type": "markdown",
   "metadata": {},
   "source": [
    "## Método da falsa posição"
   ]
  },
  {
   "cell_type": "code",
   "execution_count": null,
   "metadata": {},
   "outputs": [],
   "source": [
    "def falsa_posicao(\n",
    "    f: Callable[[float], float],\n",
    "    a: float,\n",
    "    b: float,\n",
    "    criterios: list[Callable[[EstatisticaAB], bool]],\n",
    "    observador: Callable[[EstatisticaAB], None] = lambda _: None,\n",
    "    max_iter=MAX_ITER_PADRAO,\n",
    "):\n",
    "    if a > b:\n",
    "        a, b = b, a\n",
    "    i = 1\n",
    "    x = (a * f(b) - b * f(a)) / (f(b) - f(a))\n",
    "    y = f(x)\n",
    "    est = EstatisticaAB(f, a, b, x, y)\n",
    "    observador(est)\n",
    "    while not all(map(lambda c: c(est), criterios)) and est.i < max_iter:\n",
    "        i += 1\n",
    "        if f(a) * y < 0:\n",
    "            b = x\n",
    "        else:\n",
    "            a = x\n",
    "        x = (a * f(b) - b * f(a)) / (f(b) - f(a))\n",
    "        y = f(x)\n",
    "        est_erro = (b - a) / 2\n",
    "        est.atualizar(a, b, x, y)\n",
    "        observador(est)\n",
    "    return est\n"
   ]
  },
  {
   "cell_type": "markdown",
   "metadata": {},
   "source": [
    "## Método do ponto fixo"
   ]
  },
  {
   "cell_type": "code",
   "execution_count": null,
   "metadata": {},
   "outputs": [],
   "source": [
    "class EstatisticaX:\n",
    "    def __init__(\n",
    "        self,\n",
    "        f: Callable[[float], float],\n",
    "        fi: Callable[[float], float],\n",
    "        x: float,\n",
    "        y: float,\n",
    "    ) -> None:\n",
    "        self.i: int = 1\n",
    "        self.f = f\n",
    "        self.fi = fi\n",
    "        self.prior_x = None\n",
    "        self.x = x\n",
    "        self.y = y\n",
    "\n",
    "    def atualizar(self, x: float, y: float):\n",
    "        self.i += 1\n",
    "        self.prior_x = x\n",
    "        self.x = x\n",
    "        self.y = y\n",
    "\n",
    "    def __str__(self) -> str:\n",
    "        return f\"iteracao: {self.i}, x: {self.x}, y:{self.y}\"\n"
   ]
  },
  {
   "cell_type": "code",
   "execution_count": null,
   "metadata": {},
   "outputs": [],
   "source": [
    "from pickle import NONE\n",
    "\n",
    "\n",
    "def ponto_fixo(\n",
    "    f: Callable[[float], float],\n",
    "    fi: Callable[[float], float],\n",
    "    x: float,\n",
    "    criterios: list[Callable[[EstatisticaX], bool]],\n",
    "    observador: Callable[[EstatisticaX], None] = lambda _: None,\n",
    "    max_iter=MAX_ITER_PADRAO,\n",
    "):\n",
    "    i = 1\n",
    "    y = f(x)\n",
    "    est = EstatisticaX(f, fi, x, y)\n",
    "    observador(est)\n",
    "    while not all(map(lambda c: c(est), criterios)) and est.i < max_iter:\n",
    "        i += 1\n",
    "        x = fi(x)\n",
    "        y = f(x)\n",
    "        est.atualizar(x, y)\n",
    "        observador(est)\n",
    "    return est\n"
   ]
  },
  {
   "cell_type": "markdown",
   "metadata": {},
   "source": [
    "## Método de Newtown-Raphson"
   ]
  },
  {
   "cell_type": "code",
   "execution_count": null,
   "metadata": {},
   "outputs": [],
   "source": [
    "def newton_raphson(\n",
    "    f: Callable[[float], float],\n",
    "    x: float,\n",
    "    criterios: List[Callable[[EstatisticaX], bool]],\n",
    "    observador: Callable[[EstatisticaX], None] = lambda x: None,\n",
    "    max_iter=MAX_ITER_PADRAO,\n",
    "):\n",
    "    d = derivada_central(f)\n",
    "    fi = lambda x: x - f(x) / d(x)\n",
    "    return ponto_fixo(f, fi, x, criterios, observador, max_iter)\n"
   ]
  },
  {
   "cell_type": "markdown",
   "metadata": {},
   "source": [
    "# Sistemas lineares"
   ]
  },
  {
   "cell_type": "markdown",
   "metadata": {},
   "source": [
    "## Método de Gauss"
   ]
  },
  {
   "cell_type": "code",
   "execution_count": null,
   "metadata": {},
   "outputs": [],
   "source": [
    "def multiplicar_somar(\n",
    "    fator: float,\n",
    "    ori: int,\n",
    "    dest: int,\n",
    "    b: List[List[float]],\n",
    "    y: Optional[List[float]] = None,\n",
    "):\n",
    "    colunas = len(b[0])\n",
    "    for c in range(colunas):\n",
    "        b[dest][c] += fator * b[ori][c]\n",
    "    if y is not None:\n",
    "        y[dest] += fator * y[ori]\n",
    "    pass\n",
    "\n",
    "\n",
    "def busca_pivo(linha: int, coluna: int, b: List[List[float]]):\n",
    "    maior = -inf\n",
    "    posicao = -1\n",
    "    for l in range(linha, len(b)):\n",
    "        valor = abs(b[l][coluna])\n",
    "        if valor > maior:\n",
    "            maior = valor\n",
    "            posicao = l\n",
    "    return posicao\n",
    "\n",
    "\n",
    "def elimininacao_gauss(\n",
    "    linha: int, coluna: int, b: List[List[float]], y: Optional[List[float]] = None\n",
    "):\n",
    "    for l in range(linha + 1, len(b)):\n",
    "        fator = b[l][coluna] / b[linha][coluna]\n",
    "        multiplicar_somar(-fator, linha, l, b, y)\n",
    "    pass\n",
    "\n",
    "\n",
    "def gauss(\n",
    "    b: List[List[float]], y: Optional[List[float]] = None\n",
    ") -> Tuple[List[List[float]], Optional[List[float]]]:\n",
    "    b, y = deepcopy(b), deepcopy(y)\n",
    "    l, c = 0, 0\n",
    "    m, n = len(b), len(b[0])\n",
    "    while l < m and c < n:\n",
    "        linha_pivo = busca_pivo(l, c, b)\n",
    "        if linha_pivo != -1:\n",
    "            b[l], b[linha_pivo] = b[linha_pivo], b[l]\n",
    "            if y is not None:\n",
    "                y[l], y[linha_pivo] = y[linha_pivo], y[l]\n",
    "            elimininacao_gauss(l, c, b, y)\n",
    "            l += 1\n",
    "            c += 1\n",
    "        else:\n",
    "            c += 1\n",
    "    return b, y\n"
   ]
  },
  {
   "cell_type": "markdown",
   "metadata": {},
   "source": [
    "## Tipo Solução"
   ]
  },
  {
   "cell_type": "code",
   "execution_count": null,
   "metadata": {},
   "outputs": [],
   "source": [
    "class TipoSolucao(Enum):\n",
    "    NENHUMA = 0\n",
    "    UNICA = 1\n",
    "    MULTIPLAS = 2\n",
    "\n",
    "\n",
    "def tipo_solucao(b, y) -> TipoSolucao:\n",
    "    for i in range(len(b)):\n",
    "        if b[i][i] == 0.0:\n",
    "            if y[i] == 0.0:\n",
    "                return TipoSolucao.MULTIPLAS\n",
    "            else:\n",
    "                return TipoSolucao.NENHUMA\n",
    "    return TipoSolucao.UNICA\n"
   ]
  },
  {
   "cell_type": "markdown",
   "metadata": {},
   "source": [
    "## Substituição Retroativa"
   ]
  },
  {
   "cell_type": "code",
   "execution_count": null,
   "metadata": {},
   "outputs": [],
   "source": [
    "def substituicao_retroativa(b: List[List[float]], y: List[float]) -> List[float]:\n",
    "    if tipo_solucao(b, y) != TipoSolucao.UNICA:\n",
    "        raise ValueError(\"a matriz dada não adimite solução unica\")\n",
    "    n = len(y)\n",
    "    x = [0.0] * n\n",
    "    for i in reversed(range(n)):\n",
    "        s = sum((b[i][j] * x[j] for j in range(i + 1, n)))\n",
    "        x[i] = (y[i] - s) / b[i][i]\n",
    "    return x\n"
   ]
  },
  {
   "cell_type": "markdown",
   "metadata": {},
   "source": [
    "## Gauss-Seidel"
   ]
  },
  {
   "cell_type": "code",
   "execution_count": null,
   "metadata": {},
   "outputs": [],
   "source": [
    "@dataclass\n",
    "class EstadoGauss:\n",
    "\n",
    "    i: int\n",
    "    x_ant: Optional[List[float]]\n",
    "    x: List[float]\n",
    "\n",
    "    def __init__(self, x: List[float]) -> None:\n",
    "        self.i = 1\n",
    "        self.x_ant = None\n",
    "        self.x = x\n"
   ]
  },
  {
   "cell_type": "code",
   "execution_count": null,
   "metadata": {},
   "outputs": [],
   "source": [
    "def _passo_gauss_seidel(\n",
    "    b: List[List[float]],\n",
    "    y: List[float],\n",
    "    x: List[float],\n",
    ") -> List[float]:\n",
    "    n = len(x)\n",
    "    proximo_x = [0.0] * n\n",
    "    for i in range(n):\n",
    "        soma_esquerda = sum((b[i][j] * x[j] for j in range(i)))\n",
    "        soma_direita = sum((b[i][j]) * x[j] for j in range(i + 1, n))\n",
    "        proximo_x[i] = (y[i] - soma_esquerda - soma_direita) / b[i][i]\n",
    "    return proximo_x\n",
    "\n",
    "\n",
    "def gauss_seidel(\n",
    "    b: List[List[float]],\n",
    "    y: List[float],\n",
    "    x_inicial: List[float],\n",
    "    condicoes: List[Callable[[EstadoGauss], bool]] = [],\n",
    "    observador: Callable[[EstadoGauss], None] = lambda _: None,\n",
    "    max_iter=MAX_ITER_PADRAO,\n",
    ") -> EstadoGauss:\n",
    "    estado = EstadoGauss(deepcopy(x_inicial))\n",
    "    while all((c(estado) for c in condicoes)) and estado.i < max_iter:\n",
    "        estado.i += 1\n",
    "        estado.x_ant = estado.x\n",
    "        estado.x = _passo_gauss_seidel(b, y, estado.x)\n",
    "    return estado\n"
   ]
  },
  {
   "cell_type": "markdown",
   "metadata": {},
   "source": [
    "## Solucionar sistema"
   ]
  },
  {
   "cell_type": "code",
   "execution_count": null,
   "metadata": {},
   "outputs": [],
   "source": [
    "def solucionar_linear(b: List[List[float]], y: List[float]):\n",
    "    b, y = gauss(b, y)  # type: ignore\n",
    "    x = substituicao_retroativa(b, y)\n",
    "    return x\n"
   ]
  },
  {
   "cell_type": "markdown",
   "metadata": {},
   "source": [
    "# Amostras"
   ]
  },
  {
   "cell_type": "code",
   "execution_count": null,
   "metadata": {},
   "outputs": [],
   "source": [
    "def amostra_linear(x):\n",
    "    return 5 * x + 2\n",
    "\n",
    "\n",
    "def amostra_poli(x):\n",
    "    return x**2 + x - 6\n",
    "\n",
    "\n",
    "def amostra_poli_iter(x):\n",
    "    return sqrt(6 - x)\n"
   ]
  },
  {
   "cell_type": "markdown",
   "metadata": {},
   "source": [
    "# Playground "
   ]
  },
  {
   "cell_type": "code",
   "execution_count": null,
   "metadata": {},
   "outputs": [],
   "source": [
    "b = [\n",
    "    [20.0, 2.0, 3.0],\n",
    "    [5.0, 20.0, 1.0],\n",
    "    [3.0, 1.0, 20.0],\n",
    "]\n",
    "y = [1.0, 2.0, 3.0]\n",
    "x_inicial = [2.0, 2.0, 2.0]\n",
    "\n",
    "x = solucionar_linear(b, y)\n",
    "res = gauss_seidel(b, y, x_inicial)\n",
    "\n",
    "print(x)\n",
    "print(res.x)\n"
   ]
  }
 ],
 "metadata": {
  "kernelspec": {
   "display_name": "Python 3.10.6 ('venv': venv)",
   "language": "python",
   "name": "python3"
  },
  "language_info": {
   "codemirror_mode": {
    "name": "ipython",
    "version": 3
   },
   "file_extension": ".py",
   "mimetype": "text/x-python",
   "name": "python",
   "nbconvert_exporter": "python",
   "pygments_lexer": "ipython3",
   "version": "3.10.6"
  },
  "orig_nbformat": 4,
  "vscode": {
   "interpreter": {
    "hash": "6c59314b1a04a8e423bb438665592d3397925ef63c72d8c0a9af84e1df1e8d47"
   }
  }
 },
 "nbformat": 4,
 "nbformat_minor": 2
}
