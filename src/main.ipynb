{
 "cells": [
  {
   "cell_type": "code",
   "execution_count": null,
   "metadata": {},
   "outputs": [],
   "source": [
    "from typing import Callable, List\n",
    "from math import sqrt\n",
    "import math\n"
   ]
  },
  {
   "cell_type": "markdown",
   "metadata": {},
   "source": [
    "# Funções básicas"
   ]
  },
  {
   "cell_type": "markdown",
   "metadata": {},
   "source": [
    "## Calculo do erro"
   ]
  },
  {
   "cell_type": "code",
   "execution_count": null,
   "metadata": {},
   "outputs": [],
   "source": [
    "def erro_absoluto(referencia: float, estimativa: float) -> float:\n",
    "    return abs(referencia - estimativa)\n",
    "\n",
    "\n",
    "def erro_relativo(referencia: float, estimativa: float) -> float:\n",
    "    return abs((referencia, estimativa) / estimativa)\n"
   ]
  },
  {
   "cell_type": "markdown",
   "metadata": {},
   "source": [
    "# Derivação numerica"
   ]
  },
  {
   "cell_type": "code",
   "execution_count": null,
   "metadata": {},
   "outputs": [],
   "source": [
    "DELTA_DERIVACAO_PADRAO = 10**-4\n",
    "\n",
    "\n",
    "def derivada_direita(f: Callable[[float], float], delta=DELTA_DERIVACAO_PADRAO):\n",
    "    return lambda x: (f(x + delta) - f(x)) / delta\n",
    "\n",
    "\n",
    "def derivada_esquerda(f: Callable[[float], float], delta=DELTA_DERIVACAO_PADRAO):\n",
    "    return lambda x: (f(x - delta) - f(x)) / delta\n",
    "\n",
    "\n",
    "def derivada_central(f: Callable[[float], float], delta=DELTA_DERIVACAO_PADRAO):\n",
    "    return lambda x: (f(x + delta) - f(x - delta)) / (2 * delta)\n"
   ]
  },
  {
   "cell_type": "markdown",
   "metadata": {},
   "source": [
    "# Métodos iterativos"
   ]
  },
  {
   "cell_type": "markdown",
   "metadata": {},
   "source": [
    "## Condições de parada"
   ]
  },
  {
   "cell_type": "code",
   "execution_count": null,
   "metadata": {},
   "outputs": [],
   "source": [
    "MAX_ITER_PADRAO = 100\n",
    "\n",
    "\n",
    "def limite_iteracao(i: int):\n",
    "    return lambda est: est.i >= i\n",
    "\n",
    "\n",
    "def criterio_erro_absoluto(referencia: float, erro_max: float):\n",
    "    return lambda est: erro_absoluto(referencia, est.x) < erro_max\n",
    "\n",
    "\n",
    "def criterio_ab(erro_max: float):\n",
    "    return lambda est: est.b - est.a < 2 * erro_max\n",
    "\n",
    "\n",
    "def criterio_x(erro_max: float):\n",
    "    return lambda est: est.f(est.x - erro_max) * est.f(est.x + erro_max) < 0\n",
    "\n",
    "\n",
    "def criterio_delta_x(delta: float):\n",
    "    return lambda est: est.prior_x is not None and abs(est.x - est.prior_x) < delta\n",
    "\n",
    "\n",
    "def criterio_y(dist_zero: float):\n",
    "    return lambda est: abs(est.y) < dist_zero\n"
   ]
  },
  {
   "cell_type": "markdown",
   "metadata": {},
   "source": [
    "## Método da bisseçao"
   ]
  },
  {
   "cell_type": "code",
   "execution_count": null,
   "metadata": {},
   "outputs": [],
   "source": [
    "class EstatisticaAB:\n",
    "    def __init__(\n",
    "        self, f: Callable[[float], float], a: float, b: float, x: float, y: float\n",
    "    ) -> None:\n",
    "        self.f = f\n",
    "        self.i: int = 1\n",
    "        self.a = a\n",
    "        self.b = b\n",
    "        self.prior_x = None\n",
    "        self.x = x\n",
    "        self.y = y\n",
    "\n",
    "    def atualizar(self, a: float, b: float, x: float, y: float):\n",
    "        self.i += 1\n",
    "        self.a = a\n",
    "        self.b = b\n",
    "        self.prior_x = x\n",
    "        self.x = x\n",
    "        self.y = y\n",
    "\n",
    "    def __str__(self) -> str:\n",
    "        return f\"iteracao: {self.i}, a: {self.a}, b: {self.b}, x: {self.x}, y: {self.y}\"\n"
   ]
  },
  {
   "cell_type": "code",
   "execution_count": null,
   "metadata": {},
   "outputs": [],
   "source": [
    "def bissecao(\n",
    "    f: Callable[[float], float],\n",
    "    a: float,\n",
    "    b: float,\n",
    "    criterios: list[Callable[[EstatisticaAB], bool]],\n",
    "    observador: Callable[[EstatisticaAB], any] = lambda _: None,\n",
    "    max_iter=MAX_ITER_PADRAO,\n",
    "):\n",
    "    if a > b:\n",
    "        a, b = b, a\n",
    "    i = 1\n",
    "    x = (a + b) / 2\n",
    "    y = f(x)\n",
    "    est = EstatisticaAB(f, a, b, x, y)\n",
    "    observador(est)\n",
    "    while not all(map(lambda c: c(est), criterios)) and est.i < max_iter:\n",
    "        i += 1\n",
    "        if f(a) * y < 0:\n",
    "            b = x\n",
    "        else:\n",
    "            a = x\n",
    "        x = (a + b) / 2\n",
    "        y = f(x)\n",
    "        est_erro = (b - a) / 2\n",
    "        est.atualizar(a, b, x, y)\n",
    "        observador(est)\n",
    "    return est\n"
   ]
  },
  {
   "cell_type": "markdown",
   "metadata": {},
   "source": [
    "## Método da falsa posição"
   ]
  },
  {
   "cell_type": "code",
   "execution_count": null,
   "metadata": {},
   "outputs": [],
   "source": [
    "def falsa_posicao(\n",
    "    f: Callable[[float], float],\n",
    "    a: float,\n",
    "    b: float,\n",
    "    criterios: list[Callable[[EstatisticaAB], bool]],\n",
    "    observador: Callable[[EstatisticaAB], any] = lambda _: None,\n",
    "    max_iter=MAX_ITER_PADRAO,\n",
    "):\n",
    "    if a > b:\n",
    "        a, b = b, a\n",
    "    i = 1\n",
    "    x = (a * f(b) - b * f(a)) / (f(b) - f(a))\n",
    "    y = f(x)\n",
    "    est = EstatisticaAB(f, a, b, x, y)\n",
    "    observador(est)\n",
    "    while not all(map(lambda c: c(est), criterios)) and est.i < max_iter:\n",
    "        i += 1\n",
    "        if f(a) * y < 0:\n",
    "            b = x\n",
    "        else:\n",
    "            a = x\n",
    "        x = (a * f(b) - b * f(a)) / (f(b) - f(a))\n",
    "        y = f(x)\n",
    "        est_erro = (b - a) / 2\n",
    "        est.atualizar(a, b, x, y)\n",
    "        observador(est)\n",
    "    return est\n"
   ]
  },
  {
   "cell_type": "markdown",
   "metadata": {},
   "source": [
    "## Método do ponto fixo"
   ]
  },
  {
   "cell_type": "code",
   "execution_count": null,
   "metadata": {},
   "outputs": [],
   "source": [
    "class EstatisticaX:\n",
    "    def __init__(\n",
    "        self,\n",
    "        f: Callable[[float], float],\n",
    "        fi: Callable[[float], float],\n",
    "        x: float,\n",
    "        y: float,\n",
    "    ) -> None:\n",
    "        self.i: int = 1\n",
    "        self.f = f\n",
    "        self.fi = fi\n",
    "        self.prior_x = None\n",
    "        self.x = x\n",
    "        self.y = y\n",
    "\n",
    "    def atualizar(self, x: float, y: float):\n",
    "        self.i += 1\n",
    "        self.prior_x = x\n",
    "        self.x = x\n",
    "        self.y = y\n",
    "\n",
    "    def __str__(self) -> str:\n",
    "        return f\"iteracao: {self.i}, x: {self.x}, y:{self.y}\"\n"
   ]
  },
  {
   "cell_type": "code",
   "execution_count": null,
   "metadata": {},
   "outputs": [],
   "source": [
    "def ponto_fixo(\n",
    "    f: Callable[[float], float],\n",
    "    fi: Callable[[float], float],\n",
    "    x: float,\n",
    "    criterios: list[Callable[[EstatisticaX], bool]],\n",
    "    observador: Callable[[EstatisticaX], any] = lambda _: None,\n",
    "    max_iter=MAX_ITER_PADRAO,\n",
    "):\n",
    "    i = 1\n",
    "    y = f(x)\n",
    "    est = EstatisticaX(f, fi, x, y)\n",
    "    observador(est)\n",
    "    while not all(map(lambda c: c(est), criterios)) and est.i < max_iter:\n",
    "        i += 1\n",
    "        x = fi(x)\n",
    "        y = f(x)\n",
    "        est.atualizar(x, y)\n",
    "        observador(est)\n",
    "    return est\n"
   ]
  },
  {
   "cell_type": "markdown",
   "metadata": {},
   "source": [
    "## Método de Newtown-Raphson"
   ]
  },
  {
   "cell_type": "code",
   "execution_count": null,
   "metadata": {},
   "outputs": [],
   "source": [
    "def newton_raphson(\n",
    "    f: Callable[[float], float],\n",
    "    x: float,\n",
    "    criterios: List[Callable[[EstatisticaX], bool]],\n",
    "    observador: Callable[[EstatisticaX], any] = lambda x: None,\n",
    "    max_iter=MAX_ITER_PADRAO,\n",
    "):\n",
    "    d = derivada_central(f)\n",
    "    fi = lambda x: x - f(x) / d(x)\n",
    "    return ponto_fixo(f, fi, x, criterios, observador, max_iter)\n"
   ]
  },
  {
   "cell_type": "markdown",
   "metadata": {},
   "source": [
    "# Método de Gauss-Seidel"
   ]
  },
  {
   "cell_type": "code",
   "execution_count": null,
   "metadata": {},
   "outputs": [],
   "source": [
    "def criterio_da_distancia_relativa(e):\n",
    "    def criterio(x_ant, x):\n",
    "        dr = max((abs(i - j) for i, j in zip(x_ant, x)))\n",
    "        return dr < e\n",
    "\n",
    "    return criterio\n",
    "\n",
    "\n",
    "def progride(a, b, x_ant):\n",
    "    n = len(a)\n",
    "    x = [0] * n\n",
    "    for i in range(n):\n",
    "        s1 = sum((a[i][j] * x_ant[j]) for j in range(i))\n",
    "        s2 = sum((a[i][j] * x_ant[j] for j in range(i + 1, n)))\n",
    "        x[i] = (b[i] - s1 - s2) / a[i][i]\n",
    "    return x\n",
    "\n",
    "\n",
    "def gauss_seidel(b, y, x_inicial, criterio, max_iter=10000):\n",
    "    i = 1\n",
    "    x_ant = x_inicial\n",
    "    x = progride(b, y, x_ant)\n",
    "    i += 1\n",
    "    while not criterio(x_ant, x) and i < max_iter:\n",
    "        x_ant = x\n",
    "        x = progride(b, y, x_ant)\n",
    "        i += 1\n",
    "    return x\n"
   ]
  },
  {
   "cell_type": "markdown",
   "metadata": {},
   "source": [
    "# Amostras"
   ]
  },
  {
   "cell_type": "code",
   "execution_count": null,
   "metadata": {},
   "outputs": [],
   "source": [
    "def amostra_linear(x):\n",
    "    return 5 * x + 2\n",
    "\n",
    "\n",
    "def amostra_poli(x):\n",
    "    return x**2 + x - 6\n",
    "\n",
    "\n",
    "def amostra_poli_iter(x):\n",
    "    return sqrt(6 - x)\n"
   ]
  },
  {
   "cell_type": "markdown",
   "metadata": {},
   "source": [
    "# Playground "
   ]
  },
  {
   "cell_type": "code",
   "execution_count": null,
   "metadata": {},
   "outputs": [],
   "source": [
    "# Questão 3\n",
    "b = [\n",
    "    [9, -2, 1, 3, 1],\n",
    "    [1, -1, 2, 6, 1],\n",
    "    [2, -3, 7, 1, 0],\n",
    "    [1, 6, -1, 4, 2],\n",
    "    [1, -2, 2, 1, 8],\n",
    "]\n",
    "\n",
    "y = [0, 2, 1, 1, 2]\n",
    "\n",
    "x_inicial = [1, 1, 1, 1, 1]\n",
    "\n",
    "x = gauss_seidel(b, y, x_inicial, criterio_da_distancia_relativa(10**-4))\n",
    "\n",
    "print(x)\n"
   ]
  }
 ],
 "metadata": {
  "kernelspec": {
   "display_name": "Python 3.10.7 ('venv': venv)",
   "language": "python",
   "name": "python3"
  },
  "language_info": {
   "codemirror_mode": {
    "name": "ipython",
    "version": 3
   },
   "file_extension": ".py",
   "mimetype": "text/x-python",
   "name": "python",
   "nbconvert_exporter": "python",
   "pygments_lexer": "ipython3",
   "version": "3.10.7"
  },
  "orig_nbformat": 4,
  "vscode": {
   "interpreter": {
    "hash": "f31bf232b416fe56c3917ab0398df690ebd8b51af22308b67098dc3a1a83f58c"
   }
  }
 },
 "nbformat": 4,
 "nbformat_minor": 2
}
