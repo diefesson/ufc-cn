{
 "cells": [
  {
   "cell_type": "code",
   "execution_count": null,
   "metadata": {},
   "outputs": [],
   "source": [
    "def erro_absoluto(referencia, estimativa):\n",
    "    return abs(referencia - estimativa)\n",
    "\n",
    "def erro_relativo(referencia, estimativa):\n",
    "    return abs((referencia, estimativa) / estimativa)\n"
   ]
  },
  {
   "cell_type": "code",
   "execution_count": null,
   "metadata": {},
   "outputs": [],
   "source": [
    "def limite_iteracao(limite):\n",
    "    return lambda estatistica: estatistica.iteracao == limite"
   ]
  },
  {
   "cell_type": "code",
   "execution_count": null,
   "metadata": {},
   "outputs": [],
   "source": [
    "class EstatisticaBissecao:\n",
    "\n",
    "    def __init__(self, iteracao, a, b, est_x, est_y, est_erro) -> None:\n",
    "        self.iteracao = iteracao\n",
    "        self.a = a\n",
    "        self.b = b\n",
    "        self.est_x = est_x\n",
    "        self.est_y = est_y\n",
    "        self.est_erro = est_erro\n",
    "    \n",
    "    def __str__(self) -> str:\n",
    "        return f\"iteracao: {self.iteracao}, a: {self.a:0.06}, b: {self.b}, est_x: {self.est_x}, est_y: {self.est_y}, est_erro: {self.est_erro}\"\n",
    "\n",
    "\n",
    "def bissecao(a, b, f, condicao_parada):\n",
    "    if a > b:\n",
    "        a, b = b, a\n",
    "    i = 1\n",
    "    est_x = (a+b) / 2\n",
    "    est_y = f(est_x)\n",
    "    est_erro = (b-a) / 2\n",
    "    estatistica = EstatisticaBissecao(i, a, b, est_x, est_y, est_erro)\n",
    "    print(estatistica)\n",
    "    while not condicao_parada(estatistica):\n",
    "        i += 1\n",
    "        if f(a) * est_y < 0:\n",
    "            b = est_x\n",
    "        else:\n",
    "            a = est_x\n",
    "        est_x = (a+b) / 2\n",
    "        est_y = f(est_x)\n",
    "        est_erro = (b-a) / 2\n",
    "        estatistica = EstatisticaBissecao(i, a, b, est_x, est_y, est_erro)\n",
    "        print(estatistica)\n",
    "    return estatistica\n"
   ]
  },
  {
   "cell_type": "code",
   "execution_count": null,
   "metadata": {},
   "outputs": [],
   "source": [
    "def f(x):\n",
    "    return 5 * x + 2\n"
   ]
  },
  {
   "cell_type": "code",
   "execution_count": null,
   "metadata": {},
   "outputs": [],
   "source": [
    "resultado = bissecao(-10., 10., f, limite_iteracao(100))"
   ]
  }
 ],
 "metadata": {
  "kernelspec": {
   "display_name": "Python 3.10.6 ('venv': venv)",
   "language": "python",
   "name": "python3"
  },
  "language_info": {
   "codemirror_mode": {
    "name": "ipython",
    "version": 3
   },
   "file_extension": ".py",
   "mimetype": "text/x-python",
   "name": "python",
   "nbconvert_exporter": "python",
   "pygments_lexer": "ipython3",
   "version": "3.10.6"
  },
  "orig_nbformat": 4,
  "vscode": {
   "interpreter": {
    "hash": "6c59314b1a04a8e423bb438665592d3397925ef63c72d8c0a9af84e1df1e8d47"
   }
  }
 },
 "nbformat": 4,
 "nbformat_minor": 2
}
