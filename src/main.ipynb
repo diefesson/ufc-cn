{
 "cells": [
  {
   "cell_type": "code",
   "execution_count": 32,
   "metadata": {},
   "outputs": [],
   "source": [
    "from math import sqrt\n"
   ]
  },
  {
   "cell_type": "markdown",
   "metadata": {},
   "source": [
    "# Funções básicas"
   ]
  },
  {
   "cell_type": "markdown",
   "metadata": {},
   "source": [
    "## Calculo do erro"
   ]
  },
  {
   "cell_type": "code",
   "execution_count": 33,
   "metadata": {},
   "outputs": [],
   "source": [
    "def erro_absoluto(referencia, estimativa):\n",
    "    return abs(referencia - estimativa)\n",
    "\n",
    "\n",
    "def erro_relativo(referencia, estimativa):\n",
    "    return abs((referencia, estimativa) / estimativa)\n"
   ]
  },
  {
   "cell_type": "markdown",
   "metadata": {},
   "source": [
    "# Derivação numerica"
   ]
  },
  {
   "cell_type": "code",
   "execution_count": 34,
   "metadata": {},
   "outputs": [],
   "source": [
    "DELTA_DERIVACAO_PADRAO = 10**-4\n",
    "\n",
    "\n",
    "def derivada_direita(f, delta=DELTA_DERIVACAO_PADRAO):\n",
    "    return lambda x: (f(x + delta) - f(x)) / delta\n",
    "\n",
    "\n",
    "def derivada_esquerda(f, delta=DELTA_DERIVACAO_PADRAO):\n",
    "    return lambda x: (f(x - delta) - f(x)) / delta\n",
    "\n",
    "\n",
    "def derivada_central(f, delta=DELTA_DERIVACAO_PADRAO):\n",
    "    return lambda x: (f(x + delta) - f(x - delta)) / (2 * delta)\n"
   ]
  },
  {
   "cell_type": "markdown",
   "metadata": {},
   "source": [
    "# Métodos iterativos"
   ]
  },
  {
   "cell_type": "markdown",
   "metadata": {},
   "source": [
    "## Condições de parada"
   ]
  },
  {
   "cell_type": "code",
   "execution_count": 35,
   "metadata": {},
   "outputs": [],
   "source": [
    "def limite_iteracao(i):\n",
    "    return lambda est: est.i >= i\n",
    "\n",
    "\n",
    "def criterio_erro_absoluto(referencia, e):\n",
    "    return lambda est: erro_absoluto(referencia, est.x) < e\n",
    "\n",
    "\n",
    "def criterio_ab(e):\n",
    "    return lambda est: est.b - est.a < 2 * e\n",
    "\n",
    "\n",
    "def criterio_x(e):\n",
    "    return lambda est: est.f(est.x - e) * est.f(est.x + e) < 0\n",
    "\n",
    "\n",
    "def criterio_delta_x(delta):\n",
    "    return lambda est: est.prior_x is not None and abs(est.x - est.prior_x) < delta\n",
    "\n",
    "\n",
    "def criterio_y(e):\n",
    "    return lambda est: abs(est.y) < e\n"
   ]
  },
  {
   "cell_type": "markdown",
   "metadata": {},
   "source": [
    "## Método da bisseçao"
   ]
  },
  {
   "cell_type": "code",
   "execution_count": 36,
   "metadata": {},
   "outputs": [],
   "source": [
    "class EstatisticaAB:\n",
    "    def __init__(self, f, a, b, x, y):\n",
    "        self.f = f\n",
    "        self.i = 1\n",
    "        self.a = a\n",
    "        self.b = b\n",
    "        self.prior_x = None\n",
    "        self.x = x\n",
    "        self.y = y\n",
    "\n",
    "    def atualizar(self, a, b, x, y):\n",
    "        self.i += 1\n",
    "        self.a = a\n",
    "        self.b = b\n",
    "        self.prior_x = x\n",
    "        self.x = x\n",
    "        self.y = y\n",
    "\n",
    "    def __str__(self) -> str:\n",
    "        return f\"iteracao: {self.i}, a: {self.a}, b: {self.b}, x: {self.x}, y: {self.y}\"\n"
   ]
  },
  {
   "cell_type": "code",
   "execution_count": 37,
   "metadata": {},
   "outputs": [],
   "source": [
    "def bissecao(f, a, b, criterio, observador=lambda _: None):\n",
    "    if a > b:\n",
    "        a, b = b, a\n",
    "    i = 1\n",
    "    x = (a + b) / 2\n",
    "    y = f(x)\n",
    "    est = EstatisticaAB(f, a, b, x, y)\n",
    "    observador(est)\n",
    "    while not criterio(est):\n",
    "        i += 1\n",
    "        if f(a) * y < 0:\n",
    "            b = x\n",
    "        else:\n",
    "            a = x\n",
    "        x = (a + b) / 2\n",
    "        y = f(x)\n",
    "        est_erro = (b - a) / 2\n",
    "        est.atualizar(a, b, x, y)\n",
    "        observador(est)\n",
    "    return est\n"
   ]
  },
  {
   "cell_type": "markdown",
   "metadata": {},
   "source": [
    "## Método da falsa posição"
   ]
  },
  {
   "cell_type": "code",
   "execution_count": 38,
   "metadata": {},
   "outputs": [],
   "source": [
    "def falsa_posicao(f, a, b, criterio, observador=lambda _: None):\n",
    "    if a > b:\n",
    "        a, b = b, a\n",
    "    i = 1\n",
    "    x = (a * f(b) - b * f(a)) / (f(b) - f(a))\n",
    "    y = f(x)\n",
    "    est = EstatisticaAB(f, a, b, x, y)\n",
    "    observador(est)\n",
    "    while not criterio(est):\n",
    "        i += 1\n",
    "        if f(a) * y < 0:\n",
    "            b = x\n",
    "        else:\n",
    "            a = x\n",
    "        x = (a * f(b) - b * f(a)) / (f(b) - f(a))\n",
    "        y = f(x)\n",
    "        est_erro = (b - a) / 2\n",
    "        est.atualizar(a, b, x, y)\n",
    "        observador(est)\n",
    "    return est\n"
   ]
  },
  {
   "cell_type": "markdown",
   "metadata": {},
   "source": [
    "## Método do ponto fixo"
   ]
  },
  {
   "cell_type": "code",
   "execution_count": 39,
   "metadata": {},
   "outputs": [],
   "source": [
    "class EstatisticaX:\n",
    "    def __init__(self, f, fi, x, y) -> None:\n",
    "        self.i = 1\n",
    "        self.f = f\n",
    "        self.fi = fi\n",
    "        self.prior_x = None\n",
    "        self.x = x\n",
    "        self.y = y\n",
    "\n",
    "    def atualizar(self, x, y):\n",
    "        self.i += 1\n",
    "        self.prior_x = x\n",
    "        self.x = x\n",
    "        self.y = y\n",
    "\n",
    "    def __str__(self) -> str:\n",
    "        return f\"iteracao: {self.i}, x: {self.x}, y:{self.y}\"\n"
   ]
  },
  {
   "cell_type": "code",
   "execution_count": 40,
   "metadata": {},
   "outputs": [],
   "source": [
    "def ponto_fixo(f, fi, x, criterio, observador=lambda _: None):\n",
    "    i = 1\n",
    "    y = f(x)\n",
    "    est = EstatisticaX(f, fi, x, y)\n",
    "    observador(est)\n",
    "    while not criterio(est):\n",
    "        i += 1\n",
    "        x = fi(x)\n",
    "        y = f(x)\n",
    "        est.atualizar(x, y)\n",
    "        observador(est)\n",
    "    return est\n"
   ]
  },
  {
   "cell_type": "markdown",
   "metadata": {},
   "source": [
    "## Método de Newtown-Raphson"
   ]
  },
  {
   "cell_type": "code",
   "execution_count": 41,
   "metadata": {},
   "outputs": [],
   "source": [
    "def newton_raphson(f, x, criterio, observador=lambda x: None):\n",
    "    d = derivada_central(f)\n",
    "    fi = lambda x: x - f(x) / d(x)\n",
    "    return ponto_fixo(f, fi, x, criterio, observador)\n"
   ]
  },
  {
   "cell_type": "markdown",
   "metadata": {},
   "source": [
    "# Amostras"
   ]
  },
  {
   "cell_type": "code",
   "execution_count": 42,
   "metadata": {},
   "outputs": [],
   "source": [
    "def amostra_linear(x):\n",
    "    return 5 * x + 2\n",
    "\n",
    "\n",
    "def amostra_poli(x):\n",
    "    return x**2 + x - 6\n",
    "\n",
    "\n",
    "def amostra_poli_iter(x):\n",
    "    return sqrt(6 - x)\n"
   ]
  },
  {
   "cell_type": "markdown",
   "metadata": {},
   "source": [
    "# Playground "
   ]
  },
  {
   "cell_type": "code",
   "execution_count": 43,
   "metadata": {},
   "outputs": [],
   "source": [
    "from math import cos, log, exp\n"
   ]
  },
  {
   "cell_type": "code",
   "execution_count": 44,
   "metadata": {},
   "outputs": [],
   "source": [
    "def f_q3(x):\n",
    "    return 1 / x - exp(-3 * x) - 0.13\n",
    "\n",
    "def criterio_q3(ex, ey):\n",
    "    cy = criterio_y(ey)\n",
    "    cx = criterio_x(ex)\n",
    "    return lambda est: cx(est) and cy(est)\n",
    "\n",
    "def f_q4(x):\n",
    "    return log(x**2 + 1) - cos(x)\n",
    "\n",
    "\n",
    "def f_q5(x):\n",
    "    return x**3 - 3 * x**2 - 3 * x * log(x)\n",
    "\n",
    "\n",
    "def d_q5(x):\n",
    "    return 3 * x**2 - 6 * x - 3 * log(x) - 3\n",
    "\n",
    "\n",
    "def fi_q5(x):\n",
    "    return x - f_q5(x) / d_q5(x)\n"
   ]
  },
  {
   "cell_type": "code",
   "execution_count": 45,
   "metadata": {},
   "outputs": [
    {
     "name": "stdout",
     "output_type": "stream",
     "text": [
      "iteracao: 1, a: 7.2, b: 7.8, x: 7.5, y: 0.003333333164143526\n",
      "iteracao: 2, a: 7.5, b: 7.8, x: 7.65, y: 0.0007189541404858391\n",
      "iteracao: 3, a: 7.65, b: 7.8, x: 7.725, y: -0.0005501618984417866\n",
      "iteracao: 4, a: 7.65, b: 7.725, x: 7.6875, y: 8.130071660669702e-05\n"
     ]
    }
   ],
   "source": [
    "# q3b\n",
    "resultado = bissecao(f_q3, 7.2, 7.8, criterio_q3(10 ** -2, 10 ** -4), print)"
   ]
  },
  {
   "cell_type": "code",
   "execution_count": 46,
   "metadata": {},
   "outputs": [
    {
     "name": "stdout",
     "output_type": "stream",
     "text": [
      "iteracao: 1, a: 0.0, b: 2.0, x: 0.6610292442389619, y: -0.4268312306443269\n",
      "iteracao: 2, a: 0.6610292442389619, b: 2.0, x: 0.894070677758534, y: -0.038811244777121945\n",
      "iteracao: 3, a: 0.894070677758534, b: 2.0, x: 0.9148624704966931, y: -0.001780277110784767\n",
      "iteracao: 4, a: 0.9148624704966931, b: 2.0, x: 0.9158153553896283, y: -7.569069194346412e-05\n"
     ]
    }
   ],
   "source": [
    "# q4\n",
    "resultado = falsa_posicao(f_q4, 0.0, 2.0, criterio_x(2 * 10**-4), print)\n"
   ]
  },
  {
   "cell_type": "code",
   "execution_count": 47,
   "metadata": {},
   "outputs": [
    {
     "name": "stdout",
     "output_type": "stream",
     "text": [
      "iteracao: 1, x: 1, y:-2.0\n",
      "iteracao: 2, x: 0.6666666666666667, y:-0.22610682082070865\n",
      "iteracao: 3, x: 0.615859243157585, y:-0.008674126976297214\n",
      "iteracao: 4, x: 0.61374519936385, y:-1.605754214561994e-05\n",
      "iteracao: 5, x: 0.6137412712931709, y:-5.559019911061114e-11\n"
     ]
    }
   ],
   "source": [
    "# q5 - raiz proxima de 1\n",
    "resultado = ponto_fixo(f_q5, fi_q5, 1, criterio_x(10 ** - 7), print)\n"
   ]
  },
  {
   "cell_type": "code",
   "execution_count": 48,
   "metadata": {},
   "outputs": [
    {
     "name": "stdout",
     "output_type": "stream",
     "text": [
      "iteracao: 1, x: 5, y:25.858431313488495\n",
      "iteracao: 2, x: 4.304351405240451, y:5.318058043063292\n",
      "iteracao: 3, x: 4.066697636897585, y:0.5264052300437818\n",
      "iteracao: 4, x: 4.037461687870278, y:0.007522675794341183\n",
      "iteracao: 5, x: 4.037031616014951, y:1.6166440381937264e-06\n"
     ]
    }
   ],
   "source": [
    "# q5 - raiz proxima de 5\n",
    "resultado = ponto_fixo(f_q5, fi_q5, 5, criterio_x(10 ** -7), print)"
   ]
  }
 ],
 "metadata": {
  "kernelspec": {
   "display_name": "Python 3.10.6 ('venv': venv)",
   "language": "python",
   "name": "python3"
  },
  "language_info": {
   "codemirror_mode": {
    "name": "ipython",
    "version": 3
   },
   "file_extension": ".py",
   "mimetype": "text/x-python",
   "name": "python",
   "nbconvert_exporter": "python",
   "pygments_lexer": "ipython3",
   "version": "3.10.6"
  },
  "orig_nbformat": 4,
  "vscode": {
   "interpreter": {
    "hash": "6c59314b1a04a8e423bb438665592d3397925ef63c72d8c0a9af84e1df1e8d47"
   }
  }
 },
 "nbformat": 4,
 "nbformat_minor": 2
}
